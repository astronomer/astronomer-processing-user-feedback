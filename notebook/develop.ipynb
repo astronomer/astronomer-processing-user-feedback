{
 "cells": [
  {
   "cell_type": "markdown",
   "metadata": {},
   "source": [
    "# Finetuning and evaluation of LLMs on functional representation tasks\n",
    "This notebook demonstrates an interactive development approach when finetuning a large language model (LLM) for a functional representation task.\n",
    "\n",
    "\n",
    "## Usecase\n",
    "Functional representation can be extremely helpful in the context of categorizing and understanding the meaning of natural language prompts. It can be used to help automatically categorize products given a description for e-commerce, or to help categorize and understand the meaning of user queries in a chatbot for a customer service application. In this notebook, we will be using functional representation to categorize natural language prompts in the video game domain.\n",
    "\n",
    "\n",
    "## Data\n",
    "For the purposes of finetuning, it is crucial to have a dataset that contains representative examples of the task we are trying to solve. In this notebook, we will be using a readily available dataset for the task of functional representation. More specifically, we will use the [VIGGO Dataset](https://huggingface.co/datasets/GEM/viggo) which is a collection of natural language prompts and their corresponding meaning representations in the video game domain. \n",
    "\n",
    "**Example Data Record**\n",
    "\n",
    "- Input: \"What is it about games released in 2005 that makes you think it's such a fantastic year for video games?\"\n",
    "- Output: request_explanation(release_year[2005], rating[excellent])\n",
    "\n",
    "Note for our task, we technically used the VIGGO Dataset in an \"inverted\" fashion to its original data-to-text intent, taking in as input a natural language prompt and producing as output a meaning representation.\n",
    "\n",
    "\n",
    "## Model\n",
    "We require using a small model for this task to reduce the computational cost. More specificaly, we will be attempting to finetuning a Mistral 7B parameter model for this task.\n",
    "\n",
    "## Tech stack\n",
    "- Anyscale's `llm-forge` which provides a high-level abstraction to running distributed training jobs on Ray.\n",
    "- Anyscale's `ray-llm` which provides a high-level abstraction to deploying vLLM based models on Ray.\n",
    "\n",
    "## Why finetune?\n",
    "We establish the need to finetune a model for this task because of one or more of the following reasons:\n",
    "- The quality of readily available similar sized models is not sufficient after benchmarking.\n",
    "- The cost of performing a very large few-shot learning task is too high compared to the amortized cost of finetuning.\n",
    "- Data privacy and security concerns on sending the data to a closed-source model.\n",
    "\n",
    "\n",
    "## Roadmap\n",
    "Here is a high-level overview of the steps we will be following in this notebook:\n",
    "\n",
    "1. Setup\n",
    "2. Prepare and Understand our Data\n",
    "3. Establish a baseline performance evaluation\n",
    "4. Finetune an LLM\n",
    "5. Evaluate the finetuned LLM"
   ]
  },
  {
   "cell_type": "markdown",
   "metadata": {},
   "source": [
    "## 1. Setup\n",
    "\n",
    "We start off by importing the necessary libraries and defining some types and constants."
   ]
  },
  {
   "cell_type": "markdown",
   "metadata": {},
   "source": [
    "### Imports"
   ]
  },
  {
   "cell_type": "code",
   "execution_count": 2,
   "metadata": {},
   "outputs": [],
   "source": [
    "import os\n",
    "import ray\n",
    "import time\n",
    "import shutil\n",
    "from pprint import pprint\n",
    "from uuid import uuid4\n",
    "from typing import cast, Optional, Literal\n",
    "\n",
    "import matplotlib.pyplot as plt\n",
    "import numpy as np\n",
    "import openai\n",
    "import pandas as pd\n",
    "import re\n",
    "import yaml\n",
    "from anyscale.service.models import ServiceState\n",
    "from anyscale.service import deploy, status\n",
    "from anyscale.service.models import ServiceConfig\n",
    "from openai.resources.chat.completions import ChatCompletionMessageParam"
   ]
  },
  {
   "cell_type": "markdown",
   "metadata": {},
   "source": [
    "### Types"
   ]
  },
  {
   "cell_type": "code",
   "execution_count": 3,
   "metadata": {},
   "outputs": [],
   "source": [
    "SystemMessageT = ChatCompletionMessageParam\n",
    "UserMessageT = ChatCompletionMessageParam\n",
    "AssistantMessageT = ChatCompletionMessageParam\n",
    "RolesT = Literal[\"system\", \"user\", \"assistant\"]"
   ]
  },
  {
   "cell_type": "markdown",
   "metadata": {},
   "source": [
    "### Constants"
   ]
  },
  {
   "cell_type": "code",
   "execution_count": 4,
   "metadata": {},
   "outputs": [],
   "source": [
    "ROLES = [\"system\", \"user\", \"assistant\"]\n",
    "LLM_MODEL = \"mistralai/Mistral-7B-Instruct-v0.1\"\n",
    "HUGGING_FACE_HUB_TOKEN = os.environ[\"HUGGING_FACE_HUB_TOKEN\"]\n",
    "ARTIFACT_STORAGE_PATH = os.environ[\"ANYSCALE_ARTIFACT_STORAGE\"].rstrip(\"/\") + \"/\"\n",
    "MODEL_STORAGE_PATH = f\"{ARTIFACT_STORAGE_PATH}lora_finetuning/dev/\"\n",
    "SYSTEM_PROMPT = (\n",
    "    \"Given a target sentence construct the underlying meaning \"\n",
    "    \"representation\\n\"\n",
    "    \"of the input sentence as a single function with attributes and \"\n",
    "    \"attribute\\n\"\n",
    "    \"values. This function should describe the target string \"\n",
    "    \"accurately and the\\n\"\n",
    "    \"function must be one of the following ['inform', 'request', \"\n",
    "    \"'give_opinion',\\n\"\n",
    "    \"'confirm', 'verify_attribute', 'suggest', 'request_explanation',\\n\"\n",
    "    \"'recommend', 'request_attribute'].\\n\"\n",
    "    \"\\n\"\n",
    "    \"The attributes must be one of the following:\\n\"\n",
    "    \"['name', 'exp_release_date', 'release_year', 'developer', 'esrb', \"\n",
    "    \"'rating',\\n\"\n",
    "    \"'genres', 'player_perspective', 'has_multiplayer', 'platforms',\\n\"\n",
    "    \"'available_on_steam', 'has_linux_release', 'has_mac_release', \"\n",
    "    \"'specifier']\\n\"\n",
    ")"
   ]
  },
  {
   "cell_type": "markdown",
   "metadata": {},
   "source": [
    "## 1. Preparing and Understanding our Data\n",
    "\n",
    "We will first start out by preparing and understanding our dataset. \n",
    "\n",
    "This is arguably the most important step in the process of developing a finetuning pipeline. To do this, we will:\n",
    "\n",
    "1. Read our version of the VIGGO dataset\n",
    "2. Inspect sample prompts\n",
    "3. Run data checks\n",
    "4. Visualize distributions"
   ]
  },
  {
   "cell_type": "markdown",
   "metadata": {},
   "source": [
    "### 1. Read our version of the VIGGO dataset"
   ]
  },
  {
   "cell_type": "markdown",
   "metadata": {},
   "source": [
    "We have split our dataset into training, validation and test. A validation dataset is used to stop training when the model starts to overfit. The test dataset is used to evaluate the model's performance on unseen data. Note the training dataset exists as various subsets of the original dataset to enable the retraining on increasing amounts of data."
   ]
  },
  {
   "cell_type": "code",
   "execution_count": 5,
   "metadata": {},
   "outputs": [],
   "source": [
    "data_paths = {\n",
    "    \"train\": \"s3://anyscale-public-materials/llm-finetuning/viggo_inverted/train/subset-200.jsonl\",\n",
    "    \"test\": \"s3://anyscale-public-materials/llm-finetuning/viggo_inverted/test/data.jsonl\",\n",
    "    \"validation\": \"s3://anyscale-public-materials/llm-finetuning/viggo_inverted/valid/data.jsonl\",\n",
    "}"
   ]
  },
  {
   "cell_type": "markdown",
   "metadata": {},
   "source": [
    "We read in the data into memory. In the case the data was too large to fit, we would have used of ray data's sampling or limiting capabilities to read in a subset of the data for our exploratory data analysis."
   ]
  },
  {
   "cell_type": "code",
   "execution_count": 6,
   "metadata": {},
   "outputs": [
    {
     "name": "stderr",
     "output_type": "stream",
     "text": [
      "2024-06-06 03:43:56,650\tINFO worker.py:1567 -- Connecting to existing Ray cluster at address: 100.126.238.119:6379...\n",
      "2024-06-06 03:43:56,656\tINFO worker.py:1743 -- Connected to Ray cluster. View the dashboard at \u001b[1m\u001b[32mhttps://session-rfxv1j89kxdnwm8svbi9w6xla6.i.anyscaleuserdata.com \u001b[39m\u001b[22m\n",
      "2024-06-06 03:43:56,678\tINFO packaging.py:358 -- Pushing file package 'gcs://_ray_pkg_0b494aeef520ff0a5b69422cf8afd482a1016bf4.zip' (8.47MiB) to Ray cluster...\n",
      "2024-06-06 03:43:56,710\tINFO packaging.py:371 -- Successfully pushed file package 'gcs://_ray_pkg_0b494aeef520ff0a5b69422cf8afd482a1016bf4.zip'.\n"
     ]
    },
    {
     "name": "stdout",
     "output_type": "stream",
     "text": [
      "(autoscaler +10s) Tip: use `ray status` to view detailed cluster status. To disable these messages, set RAY_SCHEDULER_EVENTS=0.\n",
      "(autoscaler +10s) [autoscaler] [8CPU-32GB] Upscaling 1 node(s).\n",
      "(autoscaler +12s) [autoscaler] [8CPU-32GB|m5.2xlarge] [us-east-2b] [on-demand] Launched 1 instances.\n"
     ]
    },
    {
     "name": "stderr",
     "output_type": "stream",
     "text": [
      "(MapBatches(exclude_failed_responses) pid=7351, ip=100.74.253.34) Could not construct Arrow block from numpy array; encountered values of unsupported numpy type `17` in column named 'model_failure', which cannot be casted to an Arrow data type. Falling back to using pandas block type, which is slower and consumes more memory. For maximum performance, consider applying the following suggestions before ingesting into Ray Data in order to use native Arrow block types:\n",
      "(MapBatches(exclude_failed_responses) pid=7351, ip=100.74.253.34) - Expand out each key-value pair in the dict column into its own column\n",
      "(MapBatches(exclude_failed_responses) pid=7351, ip=100.74.253.34) - Replace `None` values with an Arrow supported data type\n",
      "(MapBatches(exclude_failed_responses) pid=7351, ip=100.74.253.34) \n"
     ]
    },
    {
     "name": "stdout",
     "output_type": "stream",
     "text": [
      "(autoscaler +2m1s) [autoscaler] Cluster upscaled to {32 CPU, 0 GPU}.\n"
     ]
    }
   ],
   "source": [
    "dfs = {\n",
    "    dataset: ray.data.read_json(data_path).to_pandas()\n",
    "    for dataset, data_path in data_paths.items()\n",
    "}"
   ]
  },
  {
   "cell_type": "markdown",
   "metadata": {},
   "source": [
    "We check on the dataset sizes"
   ]
  },
  {
   "cell_type": "code",
   "execution_count": 7,
   "metadata": {},
   "outputs": [
    {
     "name": "stdout",
     "output_type": "stream",
     "text": [
      "split='train', size=200\n",
      "split='test', size=400\n",
      "split='validation', size=100\n"
     ]
    }
   ],
   "source": [
    "for split, df in dfs.items():\n",
    "    print(f\"{split=}, size={df.shape[0]}\")"
   ]
  },
  {
   "cell_type": "markdown",
   "metadata": {},
   "source": [
    "### 2. Inspect sample prompts\n",
    "\n",
    "It is important to understand the structure of your data before you start working with it. We first verify that the data is in the correct format that `llm-forge` expects which is a single-turn openai formate - i.e. were each message is a single turn in the conversation of system, user and assistant messages."
   ]
  },
  {
   "cell_type": "code",
   "execution_count": 8,
   "metadata": {},
   "outputs": [
    {
     "data": {
      "text/html": [
       "<div>\n",
       "<style scoped>\n",
       "    .dataframe tbody tr th:only-of-type {\n",
       "        vertical-align: middle;\n",
       "    }\n",
       "\n",
       "    .dataframe tbody tr th {\n",
       "        vertical-align: top;\n",
       "    }\n",
       "\n",
       "    .dataframe thead th {\n",
       "        text-align: right;\n",
       "    }\n",
       "</style>\n",
       "<table border=\"1\" class=\"dataframe\">\n",
       "  <thead>\n",
       "    <tr style=\"text-align: right;\">\n",
       "      <th></th>\n",
       "      <th>messages</th>\n",
       "    </tr>\n",
       "  </thead>\n",
       "  <tbody>\n",
       "    <tr>\n",
       "      <th>0</th>\n",
       "      <td>[{'role': 'system', 'content': 'Given a target...</td>\n",
       "    </tr>\n",
       "    <tr>\n",
       "      <th>1</th>\n",
       "      <td>[{'role': 'system', 'content': 'Given a target...</td>\n",
       "    </tr>\n",
       "    <tr>\n",
       "      <th>2</th>\n",
       "      <td>[{'role': 'system', 'content': 'Given a target...</td>\n",
       "    </tr>\n",
       "    <tr>\n",
       "      <th>3</th>\n",
       "      <td>[{'role': 'system', 'content': 'Given a target...</td>\n",
       "    </tr>\n",
       "    <tr>\n",
       "      <th>4</th>\n",
       "      <td>[{'role': 'system', 'content': 'Given a target...</td>\n",
       "    </tr>\n",
       "  </tbody>\n",
       "</table>\n",
       "</div>"
      ],
      "text/plain": [
       "                                            messages\n",
       "0  [{'role': 'system', 'content': 'Given a target...\n",
       "1  [{'role': 'system', 'content': 'Given a target...\n",
       "2  [{'role': 'system', 'content': 'Given a target...\n",
       "3  [{'role': 'system', 'content': 'Given a target...\n",
       "4  [{'role': 'system', 'content': 'Given a target..."
      ]
     },
     "execution_count": 8,
     "metadata": {},
     "output_type": "execute_result"
    }
   ],
   "source": [
    "dfs[\"train\"].head()"
   ]
  },
  {
   "cell_type": "code",
   "execution_count": 9,
   "metadata": {},
   "outputs": [],
   "source": [
    "for df in dfs.values():\n",
    "    assert df[\"messages\"].apply(len).drop_duplicates().item() == 3"
   ]
  },
  {
   "cell_type": "markdown",
   "metadata": {},
   "source": [
    "We then extract some sample conversations from the training data."
   ]
  },
  {
   "cell_type": "code",
   "execution_count": 10,
   "metadata": {},
   "outputs": [],
   "source": [
    "system0, user0, assistant0 = dfs[\"train\"].iloc[0].item()\n",
    "system1, user1, assistant1 = dfs[\"train\"].iloc[1].item()\n",
    "system2, user2, assistant2 = dfs[\"train\"].iloc[2].item()"
   ]
  },
  {
   "cell_type": "markdown",
   "metadata": {},
   "source": [
    "Here is the system prompt. It contains the instructions on the functional representation task enumerating the accepted function and attribute types to extract"
   ]
  },
  {
   "cell_type": "code",
   "execution_count": 11,
   "metadata": {},
   "outputs": [
    {
     "name": "stdout",
     "output_type": "stream",
     "text": [
      "{'content': 'Given a target sentence construct the underlying meaning '\n",
      "            'representation\\n'\n",
      "            'of the input sentence as a single function with attributes and '\n",
      "            'attribute\\n'\n",
      "            'values. This function should describe the target string '\n",
      "            'accurately and the\\n'\n",
      "            \"function must be one of the following ['inform', 'request', \"\n",
      "            \"'give_opinion',\\n\"\n",
      "            \"'confirm', 'verify_attribute', 'suggest', 'request_explanation',\\n\"\n",
      "            \"'recommend', 'request_attribute'].\\n\"\n",
      "            '\\n'\n",
      "            'The attributes must be one of the following:\\n'\n",
      "            \"['name', 'exp_release_date', 'release_year', 'developer', 'esrb', \"\n",
      "            \"'rating',\\n\"\n",
      "            \"'genres', 'player_perspective', 'has_multiplayer', 'platforms',\\n\"\n",
      "            \"'available_on_steam', 'has_linux_release', 'has_mac_release', \"\n",
      "            \"'specifier']\\n\",\n",
      " 'role': 'system'}\n"
     ]
    }
   ],
   "source": [
    "pprint(system0)"
   ]
  },
  {
   "cell_type": "markdown",
   "metadata": {},
   "source": [
    "Here is the user prompt it contains a target sentence that we want to extract."
   ]
  },
  {
   "cell_type": "code",
   "execution_count": 12,
   "metadata": {},
   "outputs": [
    {
     "name": "stdout",
     "output_type": "stream",
     "text": [
      "{'content': 'Here is the target sentence:\\n'\n",
      "            'Dirt: Showdown from 2012 is a sport racing game for the '\n",
      "            'PlayStation, Xbox, PC rated E 10+ (for Everyone 10 and Older). '\n",
      "            \"It's not available on Steam, Linux, or Mac.\",\n",
      " 'role': 'user'}\n"
     ]
    }
   ],
   "source": [
    "pprint(user0)"
   ]
  },
  {
   "cell_type": "markdown",
   "metadata": {},
   "source": [
    "Here is the expected assistant meaning representation:"
   ]
  },
  {
   "cell_type": "code",
   "execution_count": 13,
   "metadata": {},
   "outputs": [
    {
     "name": "stdout",
     "output_type": "stream",
     "text": [
      "{'content': 'inform(name[Dirt: Showdown], release_year[2012], esrb[E 10+ (for '\n",
      "            'Everyone 10 and Older)], genres[driving/racing, sport], '\n",
      "            'platforms[PlayStation, Xbox, PC], available_on_steam[no], '\n",
      "            'has_linux_release[no], has_mac_release[no])',\n",
      " 'role': 'assistant'}\n"
     ]
    }
   ],
   "source": [
    "pprint(assistant0)"
   ]
  },
  {
   "cell_type": "markdown",
   "metadata": {},
   "source": [
    "### 3. Run data checks\n",
    "\n",
    "We first extract the system, user and assitant messages from the dataset. We then run some basic data checks to ensure that the data is clean and ready for processing."
   ]
  },
  {
   "cell_type": "code",
   "execution_count": 14,
   "metadata": {},
   "outputs": [],
   "source": [
    "def extract_role(\n",
    "    messages: tuple[\n",
    "        SystemMessageT,\n",
    "        UserMessageT,\n",
    "        AssistantMessageT,\n",
    "    ],\n",
    "    role: Literal[\"system\", \"user\", \"assistant\"],\n",
    ") -> str:\n",
    "    assert len(messages) == 3\n",
    "    message = messages[ROLES.index(role)]\n",
    "    assert message[\"role\"] == role\n",
    "    return cast(str, message[\"content\"])"
   ]
  },
  {
   "cell_type": "code",
   "execution_count": 15,
   "metadata": {},
   "outputs": [],
   "source": [
    "for df in dfs.values():\n",
    "    df[\"system_message\"] = df[\"messages\"].apply(extract_role, role=\"system\")\n",
    "    df[\"user_message\"] = df[\"messages\"].apply(extract_role, role=\"user\")\n",
    "    df[\"assistant_message\"] = df[\"messages\"].apply(extract_role, role=\"assistant\")"
   ]
  },
  {
   "cell_type": "code",
   "execution_count": 16,
   "metadata": {},
   "outputs": [
    {
     "data": {
      "text/html": [
       "<div>\n",
       "<style scoped>\n",
       "    .dataframe tbody tr th:only-of-type {\n",
       "        vertical-align: middle;\n",
       "    }\n",
       "\n",
       "    .dataframe tbody tr th {\n",
       "        vertical-align: top;\n",
       "    }\n",
       "\n",
       "    .dataframe thead th {\n",
       "        text-align: right;\n",
       "    }\n",
       "</style>\n",
       "<table border=\"1\" class=\"dataframe\">\n",
       "  <thead>\n",
       "    <tr style=\"text-align: right;\">\n",
       "      <th></th>\n",
       "      <th>messages</th>\n",
       "      <th>system_message</th>\n",
       "      <th>user_message</th>\n",
       "      <th>assistant_message</th>\n",
       "    </tr>\n",
       "  </thead>\n",
       "  <tbody>\n",
       "    <tr>\n",
       "      <th>0</th>\n",
       "      <td>[{'role': 'system', 'content': 'Given a target...</td>\n",
       "      <td>Given a target sentence construct the underlyi...</td>\n",
       "      <td>Here is the target sentence:\\nDirt: Showdown f...</td>\n",
       "      <td>inform(name[Dirt: Showdown], release_year[2012...</td>\n",
       "    </tr>\n",
       "    <tr>\n",
       "      <th>1</th>\n",
       "      <td>[{'role': 'system', 'content': 'Given a target...</td>\n",
       "      <td>Given a target sentence construct the underlyi...</td>\n",
       "      <td>Here is the target sentence:\\nDirt: Showdown i...</td>\n",
       "      <td>inform(name[Dirt: Showdown], release_year[2012...</td>\n",
       "    </tr>\n",
       "    <tr>\n",
       "      <th>2</th>\n",
       "      <td>[{'role': 'system', 'content': 'Given a target...</td>\n",
       "      <td>Given a target sentence construct the underlyi...</td>\n",
       "      <td>Here is the target sentence:\\nDirt: Showdown i...</td>\n",
       "      <td>inform(name[Dirt: Showdown], release_year[2012...</td>\n",
       "    </tr>\n",
       "    <tr>\n",
       "      <th>3</th>\n",
       "      <td>[{'role': 'system', 'content': 'Given a target...</td>\n",
       "      <td>Given a target sentence construct the underlyi...</td>\n",
       "      <td>Here is the target sentence:\\nWere there even ...</td>\n",
       "      <td>request(release_year[2014], specifier[terrible])</td>\n",
       "    </tr>\n",
       "    <tr>\n",
       "      <th>4</th>\n",
       "      <td>[{'role': 'system', 'content': 'Given a target...</td>\n",
       "      <td>Given a target sentence construct the underlyi...</td>\n",
       "      <td>Here is the target sentence:\\nWhat's the most ...</td>\n",
       "      <td>request(release_year[2014], specifier[terrible])</td>\n",
       "    </tr>\n",
       "  </tbody>\n",
       "</table>\n",
       "</div>"
      ],
      "text/plain": [
       "                                            messages  \\\n",
       "0  [{'role': 'system', 'content': 'Given a target...   \n",
       "1  [{'role': 'system', 'content': 'Given a target...   \n",
       "2  [{'role': 'system', 'content': 'Given a target...   \n",
       "3  [{'role': 'system', 'content': 'Given a target...   \n",
       "4  [{'role': 'system', 'content': 'Given a target...   \n",
       "\n",
       "                                      system_message  \\\n",
       "0  Given a target sentence construct the underlyi...   \n",
       "1  Given a target sentence construct the underlyi...   \n",
       "2  Given a target sentence construct the underlyi...   \n",
       "3  Given a target sentence construct the underlyi...   \n",
       "4  Given a target sentence construct the underlyi...   \n",
       "\n",
       "                                        user_message  \\\n",
       "0  Here is the target sentence:\\nDirt: Showdown f...   \n",
       "1  Here is the target sentence:\\nDirt: Showdown i...   \n",
       "2  Here is the target sentence:\\nDirt: Showdown i...   \n",
       "3  Here is the target sentence:\\nWere there even ...   \n",
       "4  Here is the target sentence:\\nWhat's the most ...   \n",
       "\n",
       "                                   assistant_message  \n",
       "0  inform(name[Dirt: Showdown], release_year[2012...  \n",
       "1  inform(name[Dirt: Showdown], release_year[2012...  \n",
       "2  inform(name[Dirt: Showdown], release_year[2012...  \n",
       "3   request(release_year[2014], specifier[terrible])  \n",
       "4   request(release_year[2014], specifier[terrible])  "
      ]
     },
     "execution_count": 16,
     "metadata": {},
     "output_type": "execute_result"
    }
   ],
   "source": [
    "dfs[\"train\"].head()"
   ]
  },
  {
   "cell_type": "markdown",
   "metadata": {},
   "source": [
    "We check all system messages are the same across the splits."
   ]
  },
  {
   "cell_type": "code",
   "execution_count": 17,
   "metadata": {},
   "outputs": [],
   "source": [
    "for df in dfs.values():\n",
    "    assert df[\"system_message\"].nunique() == 1\n",
    "    assert df[\"system_message\"].unique()[0] == SYSTEM_PROMPT"
   ]
  },
  {
   "cell_type": "markdown",
   "metadata": {},
   "source": [
    "We make sure all user prompts start with the statement \"Here is the target sentence:\\n\""
   ]
  },
  {
   "cell_type": "code",
   "execution_count": 18,
   "metadata": {},
   "outputs": [],
   "source": [
    "for df in dfs.values():\n",
    "    assert df[\"user_message\"].str.startswith(\"Here is the target sentence:\\n\").all()"
   ]
  },
  {
   "cell_type": "markdown",
   "metadata": {},
   "source": [
    "We extract the function types from the assistant messages."
   ]
  },
  {
   "cell_type": "code",
   "execution_count": 19,
   "metadata": {},
   "outputs": [],
   "source": [
    "def extract_function_type(response: Optional[str]) -> Optional[str]:\n",
    "    \"\"\"Extract the function type from the response.\"\"\"\n",
    "    if response is None:\n",
    "        return None\n",
    "\n",
    "    # pattern to match is \"{function_type}({attributes})\"\n",
    "    expected_pattern = re.compile(r\"^(?P<function_type>.+?)\\((?P<attributes>.+)\\)$\")\n",
    "\n",
    "    # remove any \"Output: \" prefix and strip the response\n",
    "    match = expected_pattern.match(response.split(\"Output: \")[-1].strip())\n",
    "\n",
    "    if match is None:\n",
    "        return None\n",
    "\n",
    "    # return the function type\n",
    "    ret = match.group(\"function_type\")\n",
    "    return ret.replace(\"\\\\_\", \"_\") # handle escapes of underscores"
   ]
  },
  {
   "cell_type": "code",
   "execution_count": 20,
   "metadata": {},
   "outputs": [],
   "source": [
    "for df in dfs.values():\n",
    "    df[\"function_type\"] = df[\"assistant_message\"].apply(extract_function_type)"
   ]
  },
  {
   "cell_type": "code",
   "execution_count": 21,
   "metadata": {},
   "outputs": [
    {
     "data": {
      "text/html": [
       "<div>\n",
       "<style scoped>\n",
       "    .dataframe tbody tr th:only-of-type {\n",
       "        vertical-align: middle;\n",
       "    }\n",
       "\n",
       "    .dataframe tbody tr th {\n",
       "        vertical-align: top;\n",
       "    }\n",
       "\n",
       "    .dataframe thead th {\n",
       "        text-align: right;\n",
       "    }\n",
       "</style>\n",
       "<table border=\"1\" class=\"dataframe\">\n",
       "  <thead>\n",
       "    <tr style=\"text-align: right;\">\n",
       "      <th></th>\n",
       "      <th>messages</th>\n",
       "      <th>system_message</th>\n",
       "      <th>user_message</th>\n",
       "      <th>assistant_message</th>\n",
       "      <th>function_type</th>\n",
       "    </tr>\n",
       "  </thead>\n",
       "  <tbody>\n",
       "    <tr>\n",
       "      <th>0</th>\n",
       "      <td>[{'role': 'system', 'content': 'Given a target...</td>\n",
       "      <td>Given a target sentence construct the underlyi...</td>\n",
       "      <td>Here is the target sentence:\\nDirt: Showdown f...</td>\n",
       "      <td>inform(name[Dirt: Showdown], release_year[2012...</td>\n",
       "      <td>inform</td>\n",
       "    </tr>\n",
       "    <tr>\n",
       "      <th>1</th>\n",
       "      <td>[{'role': 'system', 'content': 'Given a target...</td>\n",
       "      <td>Given a target sentence construct the underlyi...</td>\n",
       "      <td>Here is the target sentence:\\nDirt: Showdown i...</td>\n",
       "      <td>inform(name[Dirt: Showdown], release_year[2012...</td>\n",
       "      <td>inform</td>\n",
       "    </tr>\n",
       "    <tr>\n",
       "      <th>2</th>\n",
       "      <td>[{'role': 'system', 'content': 'Given a target...</td>\n",
       "      <td>Given a target sentence construct the underlyi...</td>\n",
       "      <td>Here is the target sentence:\\nDirt: Showdown i...</td>\n",
       "      <td>inform(name[Dirt: Showdown], release_year[2012...</td>\n",
       "      <td>inform</td>\n",
       "    </tr>\n",
       "    <tr>\n",
       "      <th>3</th>\n",
       "      <td>[{'role': 'system', 'content': 'Given a target...</td>\n",
       "      <td>Given a target sentence construct the underlyi...</td>\n",
       "      <td>Here is the target sentence:\\nWere there even ...</td>\n",
       "      <td>request(release_year[2014], specifier[terrible])</td>\n",
       "      <td>request</td>\n",
       "    </tr>\n",
       "    <tr>\n",
       "      <th>4</th>\n",
       "      <td>[{'role': 'system', 'content': 'Given a target...</td>\n",
       "      <td>Given a target sentence construct the underlyi...</td>\n",
       "      <td>Here is the target sentence:\\nWhat's the most ...</td>\n",
       "      <td>request(release_year[2014], specifier[terrible])</td>\n",
       "      <td>request</td>\n",
       "    </tr>\n",
       "  </tbody>\n",
       "</table>\n",
       "</div>"
      ],
      "text/plain": [
       "                                            messages  \\\n",
       "0  [{'role': 'system', 'content': 'Given a target...   \n",
       "1  [{'role': 'system', 'content': 'Given a target...   \n",
       "2  [{'role': 'system', 'content': 'Given a target...   \n",
       "3  [{'role': 'system', 'content': 'Given a target...   \n",
       "4  [{'role': 'system', 'content': 'Given a target...   \n",
       "\n",
       "                                      system_message  \\\n",
       "0  Given a target sentence construct the underlyi...   \n",
       "1  Given a target sentence construct the underlyi...   \n",
       "2  Given a target sentence construct the underlyi...   \n",
       "3  Given a target sentence construct the underlyi...   \n",
       "4  Given a target sentence construct the underlyi...   \n",
       "\n",
       "                                        user_message  \\\n",
       "0  Here is the target sentence:\\nDirt: Showdown f...   \n",
       "1  Here is the target sentence:\\nDirt: Showdown i...   \n",
       "2  Here is the target sentence:\\nDirt: Showdown i...   \n",
       "3  Here is the target sentence:\\nWere there even ...   \n",
       "4  Here is the target sentence:\\nWhat's the most ...   \n",
       "\n",
       "                                   assistant_message function_type  \n",
       "0  inform(name[Dirt: Showdown], release_year[2012...        inform  \n",
       "1  inform(name[Dirt: Showdown], release_year[2012...        inform  \n",
       "2  inform(name[Dirt: Showdown], release_year[2012...        inform  \n",
       "3   request(release_year[2014], specifier[terrible])       request  \n",
       "4   request(release_year[2014], specifier[terrible])       request  "
      ]
     },
     "execution_count": 21,
     "metadata": {},
     "output_type": "execute_result"
    }
   ],
   "source": [
    "dfs[\"train\"].head()"
   ]
  },
  {
   "cell_type": "markdown",
   "metadata": {},
   "source": [
    "We check that all function types are not empty"
   ]
  },
  {
   "cell_type": "code",
   "execution_count": 22,
   "metadata": {},
   "outputs": [],
   "source": [
    "for df in dfs.values():\n",
    "    assert df[\"function_type\"].notnull().all()"
   ]
  },
  {
   "cell_type": "markdown",
   "metadata": {},
   "source": [
    "We also extract the attribute types from our assistant messages."
   ]
  },
  {
   "cell_type": "code",
   "execution_count": 23,
   "metadata": {},
   "outputs": [],
   "source": [
    "def extract_attribute_types(response: Optional[str]) -> list[str]:\n",
    "    if response is None:\n",
    "        return []\n",
    "\n",
    "    # pattern to match is \"{function_type}({attributes})\"\n",
    "    expected_pattern = re.compile(r\"^(?P<function_type>.+?)\\((?P<attributes>.+)\\)$\")\n",
    "\n",
    "    # remove any \"Output: \" prefix and strip the response\n",
    "    match = expected_pattern.match(response.split(\"Output: \")[-1].strip())\n",
    "\n",
    "    if match is None:        \n",
    "        return []\n",
    "\n",
    "    attributes = match.group(\"attributes\")\n",
    "    \n",
    "    # pattern is \"{attribute_type}[{attribute_value}], ...\"\n",
    "    attr_types = re.findall(r\"(\\w+)\\[\", attributes)\n",
    "\n",
    "    return attr_types"
   ]
  },
  {
   "cell_type": "code",
   "execution_count": 24,
   "metadata": {},
   "outputs": [],
   "source": [
    "for df in dfs.values():\n",
    "    df[\"attribute_types\"] = df[\"assistant_message\"].apply(extract_attribute_types)"
   ]
  },
  {
   "cell_type": "code",
   "execution_count": 25,
   "metadata": {},
   "outputs": [
    {
     "data": {
      "text/html": [
       "<div>\n",
       "<style scoped>\n",
       "    .dataframe tbody tr th:only-of-type {\n",
       "        vertical-align: middle;\n",
       "    }\n",
       "\n",
       "    .dataframe tbody tr th {\n",
       "        vertical-align: top;\n",
       "    }\n",
       "\n",
       "    .dataframe thead th {\n",
       "        text-align: right;\n",
       "    }\n",
       "</style>\n",
       "<table border=\"1\" class=\"dataframe\">\n",
       "  <thead>\n",
       "    <tr style=\"text-align: right;\">\n",
       "      <th></th>\n",
       "      <th>messages</th>\n",
       "      <th>system_message</th>\n",
       "      <th>user_message</th>\n",
       "      <th>assistant_message</th>\n",
       "      <th>function_type</th>\n",
       "      <th>attribute_types</th>\n",
       "    </tr>\n",
       "  </thead>\n",
       "  <tbody>\n",
       "    <tr>\n",
       "      <th>0</th>\n",
       "      <td>[{'role': 'system', 'content': 'Given a target...</td>\n",
       "      <td>Given a target sentence construct the underlyi...</td>\n",
       "      <td>Here is the target sentence:\\nDirt: Showdown f...</td>\n",
       "      <td>inform(name[Dirt: Showdown], release_year[2012...</td>\n",
       "      <td>inform</td>\n",
       "      <td>[name, release_year, esrb, genres, platforms, ...</td>\n",
       "    </tr>\n",
       "    <tr>\n",
       "      <th>1</th>\n",
       "      <td>[{'role': 'system', 'content': 'Given a target...</td>\n",
       "      <td>Given a target sentence construct the underlyi...</td>\n",
       "      <td>Here is the target sentence:\\nDirt: Showdown i...</td>\n",
       "      <td>inform(name[Dirt: Showdown], release_year[2012...</td>\n",
       "      <td>inform</td>\n",
       "      <td>[name, release_year, esrb, genres, platforms, ...</td>\n",
       "    </tr>\n",
       "    <tr>\n",
       "      <th>2</th>\n",
       "      <td>[{'role': 'system', 'content': 'Given a target...</td>\n",
       "      <td>Given a target sentence construct the underlyi...</td>\n",
       "      <td>Here is the target sentence:\\nDirt: Showdown i...</td>\n",
       "      <td>inform(name[Dirt: Showdown], release_year[2012...</td>\n",
       "      <td>inform</td>\n",
       "      <td>[name, release_year, esrb, genres, platforms, ...</td>\n",
       "    </tr>\n",
       "    <tr>\n",
       "      <th>3</th>\n",
       "      <td>[{'role': 'system', 'content': 'Given a target...</td>\n",
       "      <td>Given a target sentence construct the underlyi...</td>\n",
       "      <td>Here is the target sentence:\\nWere there even ...</td>\n",
       "      <td>request(release_year[2014], specifier[terrible])</td>\n",
       "      <td>request</td>\n",
       "      <td>[release_year, specifier]</td>\n",
       "    </tr>\n",
       "    <tr>\n",
       "      <th>4</th>\n",
       "      <td>[{'role': 'system', 'content': 'Given a target...</td>\n",
       "      <td>Given a target sentence construct the underlyi...</td>\n",
       "      <td>Here is the target sentence:\\nWhat's the most ...</td>\n",
       "      <td>request(release_year[2014], specifier[terrible])</td>\n",
       "      <td>request</td>\n",
       "      <td>[release_year, specifier]</td>\n",
       "    </tr>\n",
       "  </tbody>\n",
       "</table>\n",
       "</div>"
      ],
      "text/plain": [
       "                                            messages  \\\n",
       "0  [{'role': 'system', 'content': 'Given a target...   \n",
       "1  [{'role': 'system', 'content': 'Given a target...   \n",
       "2  [{'role': 'system', 'content': 'Given a target...   \n",
       "3  [{'role': 'system', 'content': 'Given a target...   \n",
       "4  [{'role': 'system', 'content': 'Given a target...   \n",
       "\n",
       "                                      system_message  \\\n",
       "0  Given a target sentence construct the underlyi...   \n",
       "1  Given a target sentence construct the underlyi...   \n",
       "2  Given a target sentence construct the underlyi...   \n",
       "3  Given a target sentence construct the underlyi...   \n",
       "4  Given a target sentence construct the underlyi...   \n",
       "\n",
       "                                        user_message  \\\n",
       "0  Here is the target sentence:\\nDirt: Showdown f...   \n",
       "1  Here is the target sentence:\\nDirt: Showdown i...   \n",
       "2  Here is the target sentence:\\nDirt: Showdown i...   \n",
       "3  Here is the target sentence:\\nWere there even ...   \n",
       "4  Here is the target sentence:\\nWhat's the most ...   \n",
       "\n",
       "                                   assistant_message function_type  \\\n",
       "0  inform(name[Dirt: Showdown], release_year[2012...        inform   \n",
       "1  inform(name[Dirt: Showdown], release_year[2012...        inform   \n",
       "2  inform(name[Dirt: Showdown], release_year[2012...        inform   \n",
       "3   request(release_year[2014], specifier[terrible])       request   \n",
       "4   request(release_year[2014], specifier[terrible])       request   \n",
       "\n",
       "                                     attribute_types  \n",
       "0  [name, release_year, esrb, genres, platforms, ...  \n",
       "1  [name, release_year, esrb, genres, platforms, ...  \n",
       "2  [name, release_year, esrb, genres, platforms, ...  \n",
       "3                          [release_year, specifier]  \n",
       "4                          [release_year, specifier]  "
      ]
     },
     "execution_count": 25,
     "metadata": {},
     "output_type": "execute_result"
    }
   ],
   "source": [
    "dfs[\"train\"].head()"
   ]
  },
  {
   "cell_type": "markdown",
   "metadata": {},
   "source": [
    "We check that all rows contain non-empty attribute types"
   ]
  },
  {
   "cell_type": "code",
   "execution_count": 26,
   "metadata": {},
   "outputs": [],
   "source": [
    "for df in dfs.values():\n",
    "    assert df[\"attribute_types\"].apply(len).min() >= 1"
   ]
  },
  {
   "cell_type": "markdown",
   "metadata": {},
   "source": [
    "### 4. Visualize distributions\n",
    "\n",
    "We visualize the distribution of the inputs and outputs in our dataset. This is important to:\n",
    "- understand the distribution of the data\n",
    "- check that training data is representative of the test data"
   ]
  },
  {
   "cell_type": "markdown",
   "metadata": {},
   "source": [
    "We first take a look at the distribution of the size of our inputs"
   ]
  },
  {
   "cell_type": "code",
   "execution_count": 27,
   "metadata": {},
   "outputs": [
    {
     "data": {
      "image/png": "[encoded data removed]",
      "text/plain": [
       "<Figure size 600x400 with 1 Axes>"
      ]
     },
     "metadata": {},
     "output_type": "display_data"
    }
   ],
   "source": [
    "# plot a histogram of the size of user messages\n",
    "fig, ax = plt.subplots(figsize=(6, 4))\n",
    "\n",
    "for split, df in dfs.items():\n",
    "    ax.hist(\n",
    "        df[\"user_message\"].apply(len),\n",
    "        bins=int(np.sqrt(df.shape[0])),\n",
    "        alpha=0.5,\n",
    "        label=split,\n",
    "        density=True,\n",
    "    )\n",
    "\n",
    "ax.legend()\n",
    "ax.set_title(\"Histogram of user message length\")\n",
    "ax.set_xlabel(\"Length\")\n",
    "ax.set_ylabel(\"Frequency\")\n",
    "plt.show()"
   ]
  },
  {
   "cell_type": "markdown",
   "metadata": {},
   "source": [
    "We visualize the distribution of function types"
   ]
  },
  {
   "cell_type": "code",
   "execution_count": 28,
   "metadata": {},
   "outputs": [
    {
     "data": {
      "image/png": "[encoded data removed]",
      "text/plain": [
       "<Figure size 640x480 with 1 Axes>"
      ]
     },
     "metadata": {},
     "output_type": "display_data"
    }
   ],
   "source": [
    "# Create a new DataFrame for the plot\n",
    "plot_df = pd.DataFrame()\n",
    "\n",
    "# Loop through each DataFrame in dfs\n",
    "for idx, (split, df) in enumerate(dfs.items()):\n",
    "    # Get the value counts and normalize\n",
    "    value_counts = df[\"function_type\"].value_counts(dropna=False, normalize=True)\n",
    "    # Add the value counts to the plot DataFrame\n",
    "    plot_df[split] = value_counts\n",
    "\n",
    "# Plot the DataFrame as a grouped bar plot\n",
    "plot_df.plot(kind='barh')\n",
    "\n",
    "plt.legend()\n",
    "plt.show()"
   ]
  },
  {
   "cell_type": "markdown",
   "metadata": {},
   "source": [
    "Fairly consistant across datasets especially it seems that inform is the most prominent function type that we expect to see across datasets. If one of the function types is more important than the others, we might want to consider undersampling the other function types to balance the dataset.\n",
    "\n",
    "\n",
    "\n",
    "Let us visualize the distribution of attribute types across the datasets."
   ]
  },
  {
   "cell_type": "code",
   "execution_count": 29,
   "metadata": {},
   "outputs": [
    {
     "data": {
      "image/png": "[encoded data removed]",
      "text/plain": [
       "<Figure size 640x480 with 1 Axes>"
      ]
     },
     "metadata": {},
     "output_type": "display_data"
    }
   ],
   "source": [
    "plot_df = pd.DataFrame()\n",
    "\n",
    "# Loop through each DataFrame in dfs\n",
    "for idx, (split, df) in enumerate(dfs.items()):\n",
    "    # Get the value counts and normalize\n",
    "    value_counts = df[\"attribute_types\"].explode().value_counts(dropna=False, normalize=True)\n",
    "    # Add the value counts to the plot DataFrame\n",
    "    plot_df[split] = value_counts\n",
    "\n",
    "# Plot the DataFrame as a grouped bar plot\n",
    "plot_df.plot(kind='barh')\n",
    "\n",
    "plt.legend()\n",
    "plt.show()"
   ]
  },
  {
   "cell_type": "markdown",
   "metadata": {},
   "source": [
    "## 2. Establishing a baseline performance evaluation\n",
    "\n",
    "To establish a baseline performance evaluation, we will first:\n",
    "\n",
    "1. Deploy a readily available LLM \n",
    "2. Build prompt-generation functions\n",
    "3. Generate outputs from the LLM\n",
    "4. Evaluate the performance on the task\n"
   ]
  },
  {
   "cell_type": "markdown",
   "metadata": {},
   "source": [
    "### 1. Deploy a readily available LLM\n",
    "\n",
    "To get start with a baseline, we will deploy a base model on the task. We will use the `mistralai/Mistral-7B-Instruct-v0.1` model for this task. This is an instruction finetuned version of the Mistral-7B model.\n",
    "\n",
    "Note to do so we make use `ray-llm` and specifically pass the default Mistral-7B `ray-llm-config.yaml` configuration file."
   ]
  },
  {
   "cell_type": "code",
   "execution_count": 30,
   "metadata": {},
   "outputs": [
    {
     "data": {
      "text/plain": [
       "ServiceConfig(name='mistral-llm-dev', image_uri='localhost:5555/anyscale/endpoints_aica:0.5.0-5659', compute_config='default-serverless-config:1')"
      ]
     },
     "execution_count": 30,
     "metadata": {},
     "output_type": "execute_result"
    }
   ],
   "source": [
    "service_name = \"mistral-llm-dev\"\n",
    "config = ServiceConfig(\n",
    "    name=service_name,\n",
    "    working_dir=\".\",\n",
    "    image_uri=\"localhost:5555/anyscale/endpoints_aica:0.5.0-5659\",\n",
    "    compute_config=\"default-serverless-config:1\",\n",
    "    applications=[\n",
    "        {\n",
    "            \"name\": \"llm-endpoint\",\n",
    "            \"route_prefix\": \"/\",\n",
    "            \"import_path\": \"aviary_private_endpoints.backend.server.run:router_application\",\n",
    "            \"args\": {\n",
    "                \"models\": [],\n",
    "                \"multiplex_models\": [\"ray-llm-config.yaml\"],\n",
    "                \"dynamic_lora_loading_path\": MODEL_STORAGE_PATH,\n",
    "            },\n",
    "            \"runtime_env\": {\"env_vars\": {\"HUGGING_FACE_HUB_TOKEN\": HUGGING_FACE_HUB_TOKEN}},\n",
    "        }\n",
    "    ],\n",
    ")\n",
    "\n",
    "config"
   ]
  },
  {
   "cell_type": "code",
   "execution_count": 31,
   "metadata": {},
   "outputs": [],
   "source": [
    "deploy(config)"
   ]
  },
  {
   "cell_type": "code",
   "execution_count": 32,
   "metadata": {},
   "outputs": [],
   "source": [
    "service_status = status(service_name)\n",
    "\n",
    "while True:\n",
    "    # Wait for the service to be deployed\n",
    "    service_status = status(service_name)\n",
    "    time.sleep(10)\n",
    "    if service_status.state == ServiceState.RUNNING:\n",
    "        break\n",
    "    elif service_status.state in [\n",
    "        ServiceState.UNHEALTHY,\n",
    "        ServiceState.TERMINATED,\n",
    "        ServiceState.SYSTEM_FAILURE,\n",
    "    ]:\n",
    "        raise RuntimeError(f\"Service {service_name} failed.\")\n",
    "    elif service_status.state in [ServiceState.UNKNOWN]:\n",
    "        print(f\"Service {service_name} is in an unknown state.\")\n",
    "\n",
    "\n",
    "api_key = service_status.query_auth_token\n",
    "base_url = service_status.query_url"
   ]
  },
  {
   "cell_type": "markdown",
   "metadata": {},
   "source": [
    "### 2. Build prompt-generation functions\n",
    "\n",
    "We will now build the prompt-generation functions that will be used to generate the inputs for the LLM."
   ]
  },
  {
   "cell_type": "markdown",
   "metadata": {},
   "source": [
    "The simplest is a zero-shot input where we make sure to use the same system prompt as we used in the training data."
   ]
  },
  {
   "cell_type": "code",
   "execution_count": 33,
   "metadata": {},
   "outputs": [],
   "source": [
    "def zero_shot(user_input: str) -> tuple[SystemMessageT, UserMessageT]:\n",
    "    \"\"\"Return a zero-shot completion of the user input.\"\"\"\n",
    "    return (\n",
    "        {\n",
    "            \"role\": \"system\",\n",
    "            \"content\": SYSTEM_PROMPT,\n",
    "        },\n",
    "        {\n",
    "            \"role\": \"user\",\n",
    "            \"content\": user_input,\n",
    "        },\n",
    "    )"
   ]
  },
  {
   "cell_type": "markdown",
   "metadata": {},
   "source": [
    "Lets inspect the `zero_shot` function"
   ]
  },
  {
   "cell_type": "code",
   "execution_count": 34,
   "metadata": {},
   "outputs": [
    {
     "name": "stdout",
     "output_type": "stream",
     "text": [
      "{'content': 'Given a target sentence construct the underlying meaning '\n",
      "            'representation\\n'\n",
      "            'of the input sentence as a single function with attributes and '\n",
      "            'attribute\\n'\n",
      "            'values. This function should describe the target string '\n",
      "            'accurately and the\\n'\n",
      "            \"function must be one of the following ['inform', 'request', \"\n",
      "            \"'give_opinion',\\n\"\n",
      "            \"'confirm', 'verify_attribute', 'suggest', 'request_explanation',\\n\"\n",
      "            \"'recommend', 'request_attribute'].\\n\"\n",
      "            '\\n'\n",
      "            'The attributes must be one of the following:\\n'\n",
      "            \"['name', 'exp_release_date', 'release_year', 'developer', 'esrb', \"\n",
      "            \"'rating',\\n\"\n",
      "            \"'genres', 'player_perspective', 'has_multiplayer', 'platforms',\\n\"\n",
      "            \"'available_on_steam', 'has_linux_release', 'has_mac_release', \"\n",
      "            \"'specifier']\\n\",\n",
      " 'role': 'system'}\n",
      "{'content': 'Here is the target sentence:\\n'\n",
      "            'Dirt: Showdown from 2012 is a sport racing game for the '\n",
      "            'PlayStation, Xbox, PC rated E 10+ (for Everyone 10 and Older). '\n",
      "            \"It's not available on Steam, Linux, or Mac.\",\n",
      " 'role': 'user'}\n"
     ]
    }
   ],
   "source": [
    "system_message, user_message = zero_shot(user_input=user0[\"content\"])\n",
    "pprint(system_message)\n",
    "pprint(user_message)"
   ]
  },
  {
   "cell_type": "markdown",
   "metadata": {},
   "source": [
    "It is very optimistic to expect readily available models to perform well on a task with zero-shot learning. Therefore, we will build a few-shot prompt generation function that will be used to generate the inputs for the LLM."
   ]
  },
  {
   "cell_type": "code",
   "execution_count": 35,
   "metadata": {},
   "outputs": [],
   "source": [
    "def few_shot(\n",
    "    user_input: str,\n",
    "    examples: list[\n",
    "        tuple[\n",
    "            SystemMessageT,\n",
    "            UserMessageT,\n",
    "            AssistantMessageT,\n",
    "        ]\n",
    "    ],\n",
    ") -> tuple[SystemMessageT, UserMessageT]:\n",
    "    \"\"\"Build a prompt for few-shot learning given a user input and examples.\"\"\"\n",
    "    system_message, user_message = zero_shot(user_input)\n",
    "    user_text = user_message[\"content\"]\n",
    "\n",
    "    example_preface = (\n",
    "        \"Examples are printed below.\"\n",
    "        if len(examples) > 1\n",
    "        else \"An example is printed below.\"\n",
    "    )\n",
    "    example_preface += (\n",
    "        ' Note: you are to respond with the string after \"Output: \" only.'\n",
    "    )\n",
    "    examples_parsed = \"\\n\".join(\n",
    "        [\n",
    "            f\"{user['content']}\\nOutput: {assistant['content']}\"\n",
    "            for (system, user, assistant) in examples\n",
    "        ]\n",
    "    )\n",
    "    response_preface = \"Now please provide the output for:\\n\"\n",
    "    user_text = f\"{example_preface}\\n{examples_parsed}\\n{response_preface}\\n{user_text}\\nOutput: \"\n",
    "    return (system_message, {\"role\": \"user\", \"content\": user_text})"
   ]
  },
  {
   "cell_type": "code",
   "execution_count": 36,
   "metadata": {},
   "outputs": [],
   "source": [
    "examples = [\n",
    "    [\n",
    "        system0,\n",
    "        user0,\n",
    "        assistant0,\n",
    "    ],\n",
    "    [\n",
    "        system1,\n",
    "        user1,\n",
    "        assistant1\n",
    "    ]\n",
    "]"
   ]
  },
  {
   "cell_type": "markdown",
   "metadata": {},
   "source": [
    "We inspect the `few_shot` function"
   ]
  },
  {
   "cell_type": "code",
   "execution_count": 37,
   "metadata": {},
   "outputs": [
    {
     "name": "stdout",
     "output_type": "stream",
     "text": [
      "({'content': 'Given a target sentence construct the underlying meaning '\n",
      "             'representation\\n'\n",
      "             'of the input sentence as a single function with attributes and '\n",
      "             'attribute\\n'\n",
      "             'values. This function should describe the target string '\n",
      "             'accurately and the\\n'\n",
      "             \"function must be one of the following ['inform', 'request', \"\n",
      "             \"'give_opinion',\\n\"\n",
      "             \"'confirm', 'verify_attribute', 'suggest', \"\n",
      "             \"'request_explanation',\\n\"\n",
      "             \"'recommend', 'request_attribute'].\\n\"\n",
      "             '\\n'\n",
      "             'The attributes must be one of the following:\\n'\n",
      "             \"['name', 'exp_release_date', 'release_year', 'developer', \"\n",
      "             \"'esrb', 'rating',\\n\"\n",
      "             \"'genres', 'player_perspective', 'has_multiplayer', 'platforms',\\n\"\n",
      "             \"'available_on_steam', 'has_linux_release', 'has_mac_release', \"\n",
      "             \"'specifier']\\n\",\n",
      "  'role': 'system'},\n",
      " {'content': 'Examples are printed below. Note: you are to respond with the '\n",
      "             'string after \"Output: \" only.\\n'\n",
      "             'Here is the target sentence:\\n'\n",
      "             'Dirt: Showdown from 2012 is a sport racing game for the '\n",
      "             'PlayStation, Xbox, PC rated E 10+ (for Everyone 10 and Older). '\n",
      "             \"It's not available on Steam, Linux, or Mac.\\n\"\n",
      "             'Output: inform(name[Dirt: Showdown], release_year[2012], esrb[E '\n",
      "             '10+ (for Everyone 10 and Older)], genres[driving/racing, sport], '\n",
      "             'platforms[PlayStation, Xbox, PC], available_on_steam[no], '\n",
      "             'has_linux_release[no], has_mac_release[no])\\n'\n",
      "             'Here is the target sentence:\\n'\n",
      "             'Dirt: Showdown is a sport racing game that was released in 2012. '\n",
      "             'The game is available on PlayStation, Xbox, and PC, and it has '\n",
      "             'an ESRB Rating of E 10+ (for Everyone 10 and Older). However, it '\n",
      "             'is not yet available as a Steam, Linux, or Mac release.\\n'\n",
      "             'Output: inform(name[Dirt: Showdown], release_year[2012], esrb[E '\n",
      "             '10+ (for Everyone 10 and Older)], genres[driving/racing, sport], '\n",
      "             'platforms[PlayStation, Xbox, PC], available_on_steam[no], '\n",
      "             'has_linux_release[no], has_mac_release[no])\\n'\n",
      "             'Now please provide the output for:\\n'\n",
      "             '\\n'\n",
      "             'Here is the target sentence:\\n'\n",
      "             'Dirt: Showdown is a driving/racing sport game released in 2012. '\n",
      "             'It is rated E 10+, and is available on PlayStation, Xbox and PC, '\n",
      "             'but not on Steam, Mac, or Linux.\\n'\n",
      "             'Output: ',\n",
      "  'role': 'user'})\n"
     ]
    }
   ],
   "source": [
    "messages = few_shot(\n",
    "    user_input=user2[\"content\"],\n",
    "    examples=examples,\n",
    ")\n",
    "pprint(messages)"
   ]
  },
  {
   "cell_type": "markdown",
   "metadata": {},
   "source": [
    "To scale the input generation we put together, a function `parse_messages` that builds a user-input column and a ground-truth column from a batch of messages\n"
   ]
  },
  {
   "cell_type": "code",
   "execution_count": 38,
   "metadata": {},
   "outputs": [],
   "source": [
    "def parse_messages(record: dict) -> dict:\n",
    "    return {\n",
    "        \"user_input\": extract_role(record[\"messages\"], role=\"user\"),\n",
    "        \"ground_truth\": extract_role(record[\"messages\"], role=\"assistant\")\n",
    "    }"
   ]
  },
  {
   "cell_type": "markdown",
   "metadata": {},
   "source": [
    "Here is how you would use the function:"
   ]
  },
  {
   "cell_type": "code",
   "execution_count": 39,
   "metadata": {},
   "outputs": [
    {
     "name": "stderr",
     "output_type": "stream",
     "text": [
      "2024-06-06 03:45:03,811\tINFO streaming_executor.py:115 -- Starting execution of Dataset. Full log is in /tmp/ray/session_2024-06-06_02-59-32_685230_5556/logs/ray-data.log\n",
      "2024-06-06 03:45:03,812\tINFO streaming_executor.py:116 -- Execution plan of Dataset: InputDataBuffer[Input] -> TaskPoolMapOperator[Map(parse_messages)]\n",
      "\n"
     ]
    },
    {
     "data": {
      "text/html": [
       "<div>\n",
       "<style scoped>\n",
       "    .dataframe tbody tr th:only-of-type {\n",
       "        vertical-align: middle;\n",
       "    }\n",
       "\n",
       "    .dataframe tbody tr th {\n",
       "        vertical-align: top;\n",
       "    }\n",
       "\n",
       "    .dataframe thead th {\n",
       "        text-align: right;\n",
       "    }\n",
       "</style>\n",
       "<table border=\"1\" class=\"dataframe\">\n",
       "  <thead>\n",
       "    <tr style=\"text-align: right;\">\n",
       "      <th></th>\n",
       "      <th>user_input</th>\n",
       "      <th>ground_truth</th>\n",
       "    </tr>\n",
       "  </thead>\n",
       "  <tbody>\n",
       "    <tr>\n",
       "      <th>0</th>\n",
       "      <td>Here is the target sentence:\\nDirt: Showdown f...</td>\n",
       "      <td>inform(name[Dirt: Showdown], release_year[2012...</td>\n",
       "    </tr>\n",
       "    <tr>\n",
       "      <th>1</th>\n",
       "      <td>Here is the target sentence:\\nDirt: Showdown i...</td>\n",
       "      <td>inform(name[Dirt: Showdown], release_year[2012...</td>\n",
       "    </tr>\n",
       "    <tr>\n",
       "      <th>2</th>\n",
       "      <td>Here is the target sentence:\\nDirt: Showdown i...</td>\n",
       "      <td>inform(name[Dirt: Showdown], release_year[2012...</td>\n",
       "    </tr>\n",
       "    <tr>\n",
       "      <th>3</th>\n",
       "      <td>Here is the target sentence:\\nWere there even ...</td>\n",
       "      <td>request(release_year[2014], specifier[terrible])</td>\n",
       "    </tr>\n",
       "    <tr>\n",
       "      <th>4</th>\n",
       "      <td>Here is the target sentence:\\nWhat's the most ...</td>\n",
       "      <td>request(release_year[2014], specifier[terrible])</td>\n",
       "    </tr>\n",
       "    <tr>\n",
       "      <th>...</th>\n",
       "      <td>...</td>\n",
       "      <td>...</td>\n",
       "    </tr>\n",
       "    <tr>\n",
       "      <th>195</th>\n",
       "      <td>Here is the target sentence:\\nI've been having...</td>\n",
       "      <td>give_opinion(name[Age of Empires II: The Age o...</td>\n",
       "    </tr>\n",
       "    <tr>\n",
       "      <th>196</th>\n",
       "      <td>Here is the target sentence:\\nI really liked A...</td>\n",
       "      <td>give_opinion(name[Age of Empires II: The Age o...</td>\n",
       "    </tr>\n",
       "    <tr>\n",
       "      <th>197</th>\n",
       "      <td>Here is the target sentence:\\nAge of Empires I...</td>\n",
       "      <td>give_opinion(name[Age of Empires II: The Age o...</td>\n",
       "    </tr>\n",
       "    <tr>\n",
       "      <th>198</th>\n",
       "      <td>Here is the target sentence:\\nSkyforge is a th...</td>\n",
       "      <td>inform(name[Skyforge], release_year[2015], gen...</td>\n",
       "    </tr>\n",
       "    <tr>\n",
       "      <th>199</th>\n",
       "      <td>Here is the target sentence:\\nSkyforge was rel...</td>\n",
       "      <td>inform(name[Skyforge], release_year[2015], gen...</td>\n",
       "    </tr>\n",
       "  </tbody>\n",
       "</table>\n",
       "<p>200 rows × 2 columns</p>\n",
       "</div>"
      ],
      "text/plain": [
       "                                            user_input  \\\n",
       "0    Here is the target sentence:\\nDirt: Showdown f...   \n",
       "1    Here is the target sentence:\\nDirt: Showdown i...   \n",
       "2    Here is the target sentence:\\nDirt: Showdown i...   \n",
       "3    Here is the target sentence:\\nWere there even ...   \n",
       "4    Here is the target sentence:\\nWhat's the most ...   \n",
       "..                                                 ...   \n",
       "195  Here is the target sentence:\\nI've been having...   \n",
       "196  Here is the target sentence:\\nI really liked A...   \n",
       "197  Here is the target sentence:\\nAge of Empires I...   \n",
       "198  Here is the target sentence:\\nSkyforge is a th...   \n",
       "199  Here is the target sentence:\\nSkyforge was rel...   \n",
       "\n",
       "                                          ground_truth  \n",
       "0    inform(name[Dirt: Showdown], release_year[2012...  \n",
       "1    inform(name[Dirt: Showdown], release_year[2012...  \n",
       "2    inform(name[Dirt: Showdown], release_year[2012...  \n",
       "3     request(release_year[2014], specifier[terrible])  \n",
       "4     request(release_year[2014], specifier[terrible])  \n",
       "..                                                 ...  \n",
       "195  give_opinion(name[Age of Empires II: The Age o...  \n",
       "196  give_opinion(name[Age of Empires II: The Age o...  \n",
       "197  give_opinion(name[Age of Empires II: The Age o...  \n",
       "198  inform(name[Skyforge], release_year[2015], gen...  \n",
       "199  inform(name[Skyforge], release_year[2015], gen...  \n",
       "\n",
       "[200 rows x 2 columns]"
      ]
     },
     "execution_count": 39,
     "metadata": {},
     "output_type": "execute_result"
    }
   ],
   "source": [
    "ray.data.from_pandas(dfs[\"train\"]).map(parse_messages).to_pandas()"
   ]
  },
  {
   "cell_type": "markdown",
   "metadata": {},
   "source": [
    "We also put together a function `generate_inputs` that can then build out zero-shot and few-shot prompts for the user input."
   ]
  },
  {
   "cell_type": "code",
   "execution_count": 40,
   "metadata": {},
   "outputs": [],
   "source": [
    "def generate_inputs(\n",
    "    record: dict,\n",
    "    examples: list[list[SystemMessageT, UserMessageT, AssistantMessageT]],\n",
    ") -> dict:\n",
    "    if len(examples) == 0:\n",
    "        sys, usr = zero_shot(record[\"user_input\"])\n",
    "    elif len(examples) >= 1:\n",
    "        sys, usr = few_shot(\n",
    "            user_input=record[\"user_input\"],\n",
    "            examples=examples,\n",
    "        )\n",
    "    record[\"model_input\"] = usr[\"content\"]\n",
    "    return record"
   ]
  },
  {
   "cell_type": "markdown",
   "metadata": {},
   "source": [
    "Here is how it would be added to our pipeline"
   ]
  },
  {
   "cell_type": "code",
   "execution_count": 41,
   "metadata": {},
   "outputs": [
    {
     "name": "stderr",
     "output_type": "stream",
     "text": [
      "2024-06-06 03:45:07,434\tINFO streaming_executor.py:115 -- Starting execution of Dataset. Full log is in /tmp/ray/session_2024-06-06_02-59-32_685230_5556/logs/ray-data.log\n",
      "2024-06-06 03:45:07,434\tINFO streaming_executor.py:116 -- Execution plan of Dataset: InputDataBuffer[Input] -> TaskPoolMapOperator[Map(parse_messages)->Map(generate_inputs)]\n",
      "\n"
     ]
    },
    {
     "data": {
      "text/html": [
       "<div>\n",
       "<style scoped>\n",
       "    .dataframe tbody tr th:only-of-type {\n",
       "        vertical-align: middle;\n",
       "    }\n",
       "\n",
       "    .dataframe tbody tr th {\n",
       "        vertical-align: top;\n",
       "    }\n",
       "\n",
       "    .dataframe thead th {\n",
       "        text-align: right;\n",
       "    }\n",
       "</style>\n",
       "<table border=\"1\" class=\"dataframe\">\n",
       "  <thead>\n",
       "    <tr style=\"text-align: right;\">\n",
       "      <th></th>\n",
       "      <th>user_input</th>\n",
       "      <th>ground_truth</th>\n",
       "      <th>model_input</th>\n",
       "    </tr>\n",
       "  </thead>\n",
       "  <tbody>\n",
       "    <tr>\n",
       "      <th>0</th>\n",
       "      <td>Here is the target sentence:\\nDirt: Showdown f...</td>\n",
       "      <td>inform(name[Dirt: Showdown], release_year[2012...</td>\n",
       "      <td>Examples are printed below. Note: you are to r...</td>\n",
       "    </tr>\n",
       "    <tr>\n",
       "      <th>1</th>\n",
       "      <td>Here is the target sentence:\\nDirt: Showdown i...</td>\n",
       "      <td>inform(name[Dirt: Showdown], release_year[2012...</td>\n",
       "      <td>Examples are printed below. Note: you are to r...</td>\n",
       "    </tr>\n",
       "    <tr>\n",
       "      <th>2</th>\n",
       "      <td>Here is the target sentence:\\nDirt: Showdown i...</td>\n",
       "      <td>inform(name[Dirt: Showdown], release_year[2012...</td>\n",
       "      <td>Examples are printed below. Note: you are to r...</td>\n",
       "    </tr>\n",
       "    <tr>\n",
       "      <th>3</th>\n",
       "      <td>Here is the target sentence:\\nWere there even ...</td>\n",
       "      <td>request(release_year[2014], specifier[terrible])</td>\n",
       "      <td>Examples are printed below. Note: you are to r...</td>\n",
       "    </tr>\n",
       "    <tr>\n",
       "      <th>4</th>\n",
       "      <td>Here is the target sentence:\\nWhat's the most ...</td>\n",
       "      <td>request(release_year[2014], specifier[terrible])</td>\n",
       "      <td>Examples are printed below. Note: you are to r...</td>\n",
       "    </tr>\n",
       "    <tr>\n",
       "      <th>...</th>\n",
       "      <td>...</td>\n",
       "      <td>...</td>\n",
       "      <td>...</td>\n",
       "    </tr>\n",
       "    <tr>\n",
       "      <th>195</th>\n",
       "      <td>Here is the target sentence:\\nI've been having...</td>\n",
       "      <td>give_opinion(name[Age of Empires II: The Age o...</td>\n",
       "      <td>Examples are printed below. Note: you are to r...</td>\n",
       "    </tr>\n",
       "    <tr>\n",
       "      <th>196</th>\n",
       "      <td>Here is the target sentence:\\nI really liked A...</td>\n",
       "      <td>give_opinion(name[Age of Empires II: The Age o...</td>\n",
       "      <td>Examples are printed below. Note: you are to r...</td>\n",
       "    </tr>\n",
       "    <tr>\n",
       "      <th>197</th>\n",
       "      <td>Here is the target sentence:\\nAge of Empires I...</td>\n",
       "      <td>give_opinion(name[Age of Empires II: The Age o...</td>\n",
       "      <td>Examples are printed below. Note: you are to r...</td>\n",
       "    </tr>\n",
       "    <tr>\n",
       "      <th>198</th>\n",
       "      <td>Here is the target sentence:\\nSkyforge is a th...</td>\n",
       "      <td>inform(name[Skyforge], release_year[2015], gen...</td>\n",
       "      <td>Examples are printed below. Note: you are to r...</td>\n",
       "    </tr>\n",
       "    <tr>\n",
       "      <th>199</th>\n",
       "      <td>Here is the target sentence:\\nSkyforge was rel...</td>\n",
       "      <td>inform(name[Skyforge], release_year[2015], gen...</td>\n",
       "      <td>Examples are printed below. Note: you are to r...</td>\n",
       "    </tr>\n",
       "  </tbody>\n",
       "</table>\n",
       "<p>200 rows × 3 columns</p>\n",
       "</div>"
      ],
      "text/plain": [
       "                                            user_input  \\\n",
       "0    Here is the target sentence:\\nDirt: Showdown f...   \n",
       "1    Here is the target sentence:\\nDirt: Showdown i...   \n",
       "2    Here is the target sentence:\\nDirt: Showdown i...   \n",
       "3    Here is the target sentence:\\nWere there even ...   \n",
       "4    Here is the target sentence:\\nWhat's the most ...   \n",
       "..                                                 ...   \n",
       "195  Here is the target sentence:\\nI've been having...   \n",
       "196  Here is the target sentence:\\nI really liked A...   \n",
       "197  Here is the target sentence:\\nAge of Empires I...   \n",
       "198  Here is the target sentence:\\nSkyforge is a th...   \n",
       "199  Here is the target sentence:\\nSkyforge was rel...   \n",
       "\n",
       "                                          ground_truth  \\\n",
       "0    inform(name[Dirt: Showdown], release_year[2012...   \n",
       "1    inform(name[Dirt: Showdown], release_year[2012...   \n",
       "2    inform(name[Dirt: Showdown], release_year[2012...   \n",
       "3     request(release_year[2014], specifier[terrible])   \n",
       "4     request(release_year[2014], specifier[terrible])   \n",
       "..                                                 ...   \n",
       "195  give_opinion(name[Age of Empires II: The Age o...   \n",
       "196  give_opinion(name[Age of Empires II: The Age o...   \n",
       "197  give_opinion(name[Age of Empires II: The Age o...   \n",
       "198  inform(name[Skyforge], release_year[2015], gen...   \n",
       "199  inform(name[Skyforge], release_year[2015], gen...   \n",
       "\n",
       "                                           model_input  \n",
       "0    Examples are printed below. Note: you are to r...  \n",
       "1    Examples are printed below. Note: you are to r...  \n",
       "2    Examples are printed below. Note: you are to r...  \n",
       "3    Examples are printed below. Note: you are to r...  \n",
       "4    Examples are printed below. Note: you are to r...  \n",
       "..                                                 ...  \n",
       "195  Examples are printed below. Note: you are to r...  \n",
       "196  Examples are printed below. Note: you are to r...  \n",
       "197  Examples are printed below. Note: you are to r...  \n",
       "198  Examples are printed below. Note: you are to r...  \n",
       "199  Examples are printed below. Note: you are to r...  \n",
       "\n",
       "[200 rows x 3 columns]"
      ]
     },
     "execution_count": 41,
     "metadata": {},
     "output_type": "execute_result"
    }
   ],
   "source": [
    "(\n",
    "    ray.data.from_pandas(dfs[\"train\"])\n",
    "    .map(parse_messages)\n",
    "    .map(generate_inputs, fn_kwargs={\"examples\": examples})\n",
    "    .to_pandas()\n",
    ")"
   ]
  },
  {
   "cell_type": "markdown",
   "metadata": {},
   "source": [
    "### 3. Generate outputs from the LLM\n",
    "\n",
    "Now that we have our prompt-generation functions, we will generate sample outputs from the LLM.\n",
    "\n",
    "To do so, we make use of the openai SDK to interact with the model."
   ]
  },
  {
   "cell_type": "code",
   "execution_count": 42,
   "metadata": {},
   "outputs": [],
   "source": [
    "def build_client(base_url: str, api_key: str) -> openai.OpenAI:\n",
    "    return openai.OpenAI(\n",
    "        base_url=base_url.rstrip(\"/\") + \"/v1\",\n",
    "        api_key=api_key,\n",
    "    )\n",
    "\n",
    "\n",
    "def query(\n",
    "    client: openai.OpenAI,\n",
    "    llm_model: str,\n",
    "    system_message: SystemMessageT,\n",
    "    user_message: UserMessageT,\n",
    "    temperature: float = 0,\n",
    "    timeout: float = 3 * 60,\n",
    ") -> Optional[str]:\n",
    "    model_response = client.chat.completions.create(\n",
    "        model=llm_model,\n",
    "        messages=[system_message, user_message],\n",
    "        temperature=temperature,\n",
    "        timeout=timeout,\n",
    "    )\n",
    "    model_output = model_response.choices[0].message.content\n",
    "    return model_output"
   ]
  },
  {
   "cell_type": "markdown",
   "metadata": {},
   "source": [
    "We build the client"
   ]
  },
  {
   "cell_type": "code",
   "execution_count": 43,
   "metadata": {},
   "outputs": [],
   "source": [
    "client = build_client(base_url=base_url, api_key=api_key)"
   ]
  },
  {
   "cell_type": "markdown",
   "metadata": {},
   "source": [
    "Prepare the input and run a query"
   ]
  },
  {
   "cell_type": "code",
   "execution_count": 44,
   "metadata": {},
   "outputs": [
    {
     "data": {
      "text/plain": [
       "' inform(name[Dirt: Showdown], release_year[2012], esrb[E 10+], genres[driving/racing, sport], platforms[PlayStation, Xbox, PC], available_on_steam[no], has_linux_release[no], has_mac_release[no])'"
      ]
     },
     "execution_count": 44,
     "metadata": {},
     "output_type": "execute_result"
    }
   ],
   "source": [
    "system_message, user_message = few_shot(\n",
    "    user_input=user2[\"content\"],\n",
    "    examples=examples,\n",
    ")\n",
    "\n",
    "query(\n",
    "    client=client,\n",
    "    llm_model=LLM_MODEL,\n",
    "    system_message=system_message,\n",
    "    user_message=user_message,\n",
    ")"
   ]
  },
  {
   "cell_type": "markdown",
   "metadata": {},
   "source": [
    "Lets compare it with the ground truth"
   ]
  },
  {
   "cell_type": "code",
   "execution_count": 45,
   "metadata": {},
   "outputs": [
    {
     "data": {
      "text/plain": [
       "'inform(name[Dirt: Showdown], release_year[2012], esrb[E 10+ (for Everyone 10 and Older)], genres[driving/racing, sport], platforms[PlayStation, Xbox, PC], available_on_steam[no], has_linux_release[no], has_mac_release[no])'"
      ]
     },
     "execution_count": 45,
     "metadata": {},
     "output_type": "execute_result"
    }
   ],
   "source": [
    "assistant2[\"content\"]"
   ]
  },
  {
   "cell_type": "markdown",
   "metadata": {},
   "source": [
    "Let's confirm that indeed zero-shot learning is not sufficient for this task by querying the model with a zero-shot prompt."
   ]
  },
  {
   "cell_type": "code",
   "execution_count": 46,
   "metadata": {},
   "outputs": [
    {
     "data": {
      "text/plain": [
       "' The underlying meaning representation of the input sentence as a single function with attributes and attribute values is:\\n\\nfunction: request_attribute\\nattributes:\\n- name: Dirt: Showdown\\n- exp_release_date: 2012\\n- rating: E 10+\\n- platforms: PlayStation, Xbox, PC\\n- available_on_steam: False\\n- has_linux_release: False\\n- has_mac_release: False'"
      ]
     },
     "execution_count": 46,
     "metadata": {},
     "output_type": "execute_result"
    }
   ],
   "source": [
    "# Generate a zero-shot prompt\n",
    "system_message, user_message = zero_shot(user2[\"content\"])\n",
    "\n",
    "# Run the query\n",
    "query(\n",
    "    client=client,\n",
    "    llm_model=LLM_MODEL,\n",
    "    system_message=system_message,\n",
    "    user_message=user_message\n",
    ")"
   ]
  },
  {
   "cell_type": "markdown",
   "metadata": {},
   "source": [
    "To scale the generation of the prompts we will declare a callable class `ModelClient` which we can apply using ray data's `map` function."
   ]
  },
  {
   "cell_type": "code",
   "execution_count": 47,
   "metadata": {},
   "outputs": [],
   "source": [
    "class ModelClient:\n",
    "    def __init__(self, base_url: str = base_url, api_key: str = api_key) -> None:\n",
    "        self.client = build_client(base_url, api_key)\n",
    "\n",
    "    def __call__(\n",
    "        self,\n",
    "        record: dict,\n",
    "        llm_model: str = LLM_MODEL,\n",
    "    ) -> dict:\n",
    "        try:\n",
    "            record[\"model_output\"] = query(\n",
    "                client=self.client,\n",
    "                llm_model=llm_model,\n",
    "                system_message={\"role\": \"system\", \"content\": SYSTEM_PROMPT},\n",
    "                user_message={\"role\": \"user\", \"content\": record[\"model_input\"]}\n",
    "            )\n",
    "\n",
    "        except Exception as e:\n",
    "            record[\"model_output\"] = np.nan\n",
    "            record[\"model_failure\"] = str(e)\n",
    "\n",
    "        else:\n",
    "            record[\"model_failure\"] = np.nan \n",
    "        \n",
    "        return record"
   ]
  },
  {
   "cell_type": "code",
   "execution_count": 48,
   "metadata": {},
   "outputs": [
    {
     "name": "stderr",
     "output_type": "stream",
     "text": [
      "2024-06-06 03:45:17,825\tINFO streaming_executor.py:115 -- Starting execution of Dataset. Full log is in /tmp/ray/session_2024-06-06_02-59-32_685230_5556/logs/ray-data.log\n",
      "2024-06-06 03:45:17,825\tINFO streaming_executor.py:116 -- Execution plan of Dataset: InputDataBuffer[Input] -> LimitOperator[limit=1] -> ActorPoolMapOperator[Map(parse_messages)->Map(generate_inputs)->Map(ModelClient)]\n",
      "\n"
     ]
    },
    {
     "data": {
      "text/html": [
       "<div>\n",
       "<style scoped>\n",
       "    .dataframe tbody tr th:only-of-type {\n",
       "        vertical-align: middle;\n",
       "    }\n",
       "\n",
       "    .dataframe tbody tr th {\n",
       "        vertical-align: top;\n",
       "    }\n",
       "\n",
       "    .dataframe thead th {\n",
       "        text-align: right;\n",
       "    }\n",
       "</style>\n",
       "<table border=\"1\" class=\"dataframe\">\n",
       "  <thead>\n",
       "    <tr style=\"text-align: right;\">\n",
       "      <th></th>\n",
       "      <th>user_input</th>\n",
       "      <th>ground_truth</th>\n",
       "      <th>model_input</th>\n",
       "      <th>model_output</th>\n",
       "      <th>model_failure</th>\n",
       "    </tr>\n",
       "  </thead>\n",
       "  <tbody>\n",
       "    <tr>\n",
       "      <th>0</th>\n",
       "      <td>Here is the target sentence:\\nDirt: Showdown f...</td>\n",
       "      <td>inform(name[Dirt: Showdown], release_year[2012...</td>\n",
       "      <td>Examples are printed below. Note: you are to r...</td>\n",
       "      <td>inform(name[Dirt: Showdown], release_year[201...</td>\n",
       "      <td>NaN</td>\n",
       "    </tr>\n",
       "  </tbody>\n",
       "</table>\n",
       "</div>"
      ],
      "text/plain": [
       "                                          user_input  \\\n",
       "0  Here is the target sentence:\\nDirt: Showdown f...   \n",
       "\n",
       "                                        ground_truth  \\\n",
       "0  inform(name[Dirt: Showdown], release_year[2012...   \n",
       "\n",
       "                                         model_input  \\\n",
       "0  Examples are printed below. Note: you are to r...   \n",
       "\n",
       "                                        model_output  model_failure  \n",
       "0   inform(name[Dirt: Showdown], release_year[201...            NaN  "
      ]
     },
     "execution_count": 48,
     "metadata": {},
     "output_type": "execute_result"
    }
   ],
   "source": [
    "(\n",
    "    ray.data.from_pandas(dfs[\"train\"])\n",
    "    .limit(1)\n",
    "    .map(parse_messages)\n",
    "    .map(generate_inputs, fn_kwargs={\"examples\": examples})\n",
    "    .map(ModelClient, concurrency=1)\n",
    "    .to_pandas()\n",
    ")"
   ]
  },
  {
   "cell_type": "markdown",
   "metadata": {},
   "source": [
    "We will now generate outputs given an increasing number of few-shot examples."
   ]
  },
  {
   "cell_type": "code",
   "execution_count": 51,
   "metadata": {},
   "outputs": [],
   "source": [
    "df_outputs = {}\n",
    "n_few_shot = [0, 1, 3, 5, 10, 20]\n",
    "max_concurrency = 64\n",
    "\n",
    "def gen_outputs(record):\n",
    "    n = record[\"n\"]\n",
    "    dest = f\"/mnt/cluster_storage/outputs/dev/{n}_few_shot_sampled.json\"\n",
    "    if os.path.exists(dest):\n",
    "        shutil.rmtree(dest)\n",
    "\n",
    "    examples = dfs[\"train\"].sample(n)[\"messages\"].tolist()\n",
    "    assert len(examples) == n\n",
    "    \n",
    "    (\n",
    "        ray.data.from_pandas(dfs[\"test\"])\n",
    "        .repartition(max_concurrency)\n",
    "        .map(parse_messages, num_cpus=0.01)\n",
    "        .map(generate_inputs, fn_kwargs={\"examples\": examples}, num_cpus=0.01)\n",
    "        .map(ModelClient, concurrency=max_concurrency, num_cpus=0.01)\n",
    "        .write_json(dest)\n",
    "    )\n",
    "    return record\n",
    "\n",
    "ray.data.from_items([{\"n\": n} for n in n_few_shot]).map(gen_outputs).materialize()"
   ]
  },
  {
   "cell_type": "code",
   "execution_count": 52,
   "metadata": {},
   "outputs": [],
   "source": [
    "df_outputs = {}\n",
    "for n in n_few_shot:\n",
    "    # TODO - change to shared_storage so it is accessible org-wide\n",
    "    src = f\"/mnt/cluster_storage/outputs_{n}_few_shot_sampled.json\"\n",
    "    df_outputs[n] = ray.data.read_json(src).to_pandas()"
   ]
  },
  {
   "cell_type": "markdown",
   "metadata": {},
   "source": [
    "### 4. Evaluate the performance on the task"
   ]
  },
  {
   "cell_type": "markdown",
   "metadata": {},
   "source": [
    "Lets post process the outputs to extract the ground-truth vs model predicted function types and attriute types"
   ]
  },
  {
   "cell_type": "code",
   "execution_count": 53,
   "metadata": {},
   "outputs": [],
   "source": [
    "def post_process(record: dict):\n",
    "    record.update(\n",
    "        {\n",
    "            \"ground_truth_fn_type\": extract_function_type(record[\"ground_truth\"]),\n",
    "            \"ground_truth_attr_types\": extract_attribute_types(record[\"ground_truth\"]),\n",
    "            \"model_fn_type\": extract_function_type(record[\"model_output\"]),\n",
    "            \"model_attr_types\": extract_attribute_types(record[\"model_output\"]),\n",
    "    }\n",
    "    )\n",
    "    return record"
   ]
  },
  {
   "cell_type": "code",
   "execution_count": 54,
   "metadata": {},
   "outputs": [
    {
     "name": "stderr",
     "output_type": "stream",
     "text": [
      "2024-06-06 03:45:49,097\tINFO dataset.py:2368 -- Tip: Use `take_batch()` instead of `take() / show()` to return records in pandas or numpy batch format.\n",
      "2024-06-06 03:45:49,099\tINFO streaming_executor.py:115 -- Starting execution of Dataset. Full log is in /tmp/ray/session_2024-06-06_02-59-32_685230_5556/logs/ray-data.log\n",
      "2024-06-06 03:45:49,100\tINFO streaming_executor.py:116 -- Execution plan of Dataset: InputDataBuffer[Input] -> TaskPoolMapOperator[Map(post_process)] -> LimitOperator[limit=1]\n",
      "\n"
     ]
    },
    {
     "data": {
      "text/plain": [
       "[{'user_input': \"Here is the target sentence:\\nI'm looking for something to make me laugh, what do you think is the funniest game you've ever played?\",\n",
       "  'ground_truth': 'request(specifier[funniest])',\n",
       "  'model_input': 'Examples are printed below. Note: you are to respond with the string after \"Output: \" only.\\nHere is the target sentence:\\nSuper Bomberman is an action and strategy game from 1993 for Nintendo consoles and PC only. It\\'s an older console game that is, unfortunately, not available to play on Steam and does not offer support for Mac or Linux.\\nOutput: inform(name[Super Bomberman], release_year[1993], genres[action, strategy], platforms[Nintendo, PC], available_on_steam[no], has_linux_release[no], has_mac_release[no])\\nHere is the target sentence:\\nWhy is it that you like to play bird view perspective hack-and-slash RPGs?\\nOutput: request_explanation(rating[good], genres[hack-and-slash, role-playing], player_perspective[bird view])\\nHere is the target sentence:\\nFireproof Games released an indie puzzle game, The Room, in 2012. This first person point-and-click game has excellent ratings.\\nOutput: inform(name[The Room], release_year[2012], developer[Fireproof Games], rating[excellent], genres[indie, point-and-click, puzzle], player_perspective[first person])\\nHere is the target sentence:\\nYou said you were not totally sold on Little Big Adventure. Is this the case for all third person games from Adeline Software International?\\nOutput: verify_attribute(name[Little Big Adventure], developer[Adeline Software International], rating[average], player_perspective[third person])\\nHere is the target sentence:\\nSo what\\'s a game with multiplayer that you just found to be dull?\\nOutput: request(has_multiplayer[yes], specifier[dull])\\nNow please provide the output for:\\n\\nHere is the target sentence:\\nI\\'m looking for something to make me laugh, what do you think is the funniest game you\\'ve ever played?\\nOutput: ',\n",
       "  'model_output': ' request_attribute(genres[comedy], rating[funniest])',\n",
       "  'model_failure': None,\n",
       "  'ground_truth_fn_type': 'request',\n",
       "  'ground_truth_attr_types': ['specifier'],\n",
       "  'model_fn_type': 'request_attribute',\n",
       "  'model_attr_types': ['genres', 'rating']}]"
      ]
     },
     "execution_count": 54,
     "metadata": {},
     "output_type": "execute_result"
    }
   ],
   "source": [
    "ray.data.from_pandas(df_outputs[5]).map(post_process).take(1)"
   ]
  },
  {
   "cell_type": "markdown",
   "metadata": {},
   "source": [
    "We start by excluding any failed responses"
   ]
  },
  {
   "cell_type": "code",
   "execution_count": 55,
   "metadata": {},
   "outputs": [],
   "source": [
    "def exclude_failed_responses(batch: dict[str, pd.Series]) -> dict[str, pd.Series]:\n",
    "    failed_responses = batch[\"model_failure\"].notnull()\n",
    "    return {\n",
    "        k: v[~failed_responses]\n",
    "        for k, v in batch.items()\n",
    "    }\n"
   ]
  },
  {
   "cell_type": "code",
   "execution_count": 56,
   "metadata": {},
   "outputs": [
    {
     "name": "stderr",
     "output_type": "stream",
     "text": [
      "2024-06-06 03:45:52,681\tINFO streaming_executor.py:115 -- Starting execution of Dataset. Full log is in /tmp/ray/session_2024-06-06_02-59-32_685230_5556/logs/ray-data.log\n",
      "2024-06-06 03:45:52,681\tINFO streaming_executor.py:116 -- Execution plan of Dataset: InputDataBuffer[Input] -> TaskPoolMapOperator[MapBatches(exclude_failed_responses)] -> LimitOperator[limit=1]\n",
      "\n"
     ]
    },
    {
     "data": {
      "text/plain": [
       "[{'user_input': \"Here is the target sentence:\\nBlizzard Entertainment's StarCraft is a very good RTS, for real.\",\n",
       "  'ground_truth': 'give_opinion(name[StarCraft], developer[Blizzard Entertainment], rating[good], genres[real-time strategy])',\n",
       "  'model_input': 'Examples are printed below. Note: you are to respond with the string after \"Output: \" only.\\nHere is the target sentence:\\nLayers of Fear, the indie first person point-and-click adventure game?\\nOutput: confirm(name[Layers of Fear], genres[adventure, indie, point-and-click], player_perspective[first person])\\nHere is the target sentence:\\nThe Forest of Doom is an average 2014 text adventure RPG. It\\'s for PC only and available on Steam. There\\'s Linux and Mac support too.\\nOutput: inform(name[The Forest of Doom], release_year[2014], rating[average], genres[role-playing, text adventure], platforms[PC], available_on_steam[yes], has_linux_release[yes], has_mac_release[yes])\\nHere is the target sentence:\\nDirt: Showdown is a multiplayer sport racing game for PlayStation, Xbox, and PC only. There is no Steam release. You can play from both the first and third person perspective.\\nOutput: inform(name[Dirt: Showdown], genres[driving/racing, sport], player_perspective[first person, third person], has_multiplayer[yes], platforms[PlayStation, Xbox, PC], available_on_steam[no])\\nHere is the target sentence:\\nAlan Wake\\'s American Nightmare was released in 2012 with a T (for Teen) rating. It is rated poor. It is a third person action-adventure shooter game.\\nOutput: inform(name[Alan Wake\\'s American Nightmare], release_year[2012], esrb[T (for Teen)], rating[poor], genres[action-adventure, shooter], player_perspective[third person])\\nHere is the target sentence:\\nWarcraft III: Reign of Chaos is an excellent multiplayer real-time strategy game with a bird\\'s eye perspective. It came out in 2002.\\nOutput: inform(name[Warcraft III: Reign of Chaos], release_year[2002], rating[excellent], genres[real-time strategy], player_perspective[bird view], has_multiplayer[yes])\\nHere is the target sentence:\\nWhy is it that you like to play bird view perspective hack-and-slash RPGs?\\nOutput: request_explanation(rating[good], genres[hack-and-slash, role-playing], player_perspective[bird view])\\nHere is the target sentence:\\nOne Hudson Soft game for the PC that I enjoyed was Super Bomberman. Have you heard of it?\\nOutput: recommend(name[Super Bomberman], developer[Hudson Soft], platforms[PC])\\nHere is the target sentence:\\nSince you like multiplayer games, have you tried Never Alone?\\nOutput: recommend(name[Never Alone], has_multiplayer[yes])\\nHere is the target sentence:\\nDiablo II is a really good entry in the hack-and-slash RPG genre. You don\\'t see many bird view games these days, which is sad.\\nOutput: give_opinion(name[Diablo II], rating[good], genres[hack-and-slash, role-playing], player_perspective[bird view])\\nHere is the target sentence:\\nFireproof Games released an indie puzzle game, The Room, in 2012. This first person point-and-click game has excellent ratings.\\nOutput: inform(name[The Room], release_year[2012], developer[Fireproof Games], rating[excellent], genres[indie, point-and-click, puzzle], player_perspective[first person])\\nNow please provide the output for:\\n\\nHere is the target sentence:\\nBlizzard Entertainment\\'s StarCraft is a very good RTS, for real.\\nOutput: ',\n",
       "  'model_output': ' inform(name[StarCraft], genres[real-time strategy], rating[very good], developer[Blizzard Entertainment])',\n",
       "  'model_failure': None}]"
      ]
     },
     "execution_count": 56,
     "metadata": {},
     "output_type": "execute_result"
    }
   ],
   "source": [
    "ray.data.from_pandas(df_outputs[10]).map_batches(exclude_failed_responses, batch_format=\"pandas\").take(1)"
   ]
  },
  {
   "cell_type": "markdown",
   "metadata": {},
   "source": [
    "We then compute the accuracy of the predicting the function type"
   ]
  },
  {
   "cell_type": "code",
   "execution_count": 57,
   "metadata": {},
   "outputs": [],
   "source": [
    "def check_function_type_accuracy(batch: dict) -> dict:\n",
    "    batch[\"fn_type_match\"] = batch[\"ground_truth_fn_type\"] == batch[\"model_fn_type\"]\n",
    "    return batch"
   ]
  },
  {
   "cell_type": "code",
   "execution_count": 58,
   "metadata": {},
   "outputs": [
    {
     "name": "stderr",
     "output_type": "stream",
     "text": [
      "2024-06-06 03:45:54,956\tINFO streaming_executor.py:115 -- Starting execution of Dataset. Full log is in /tmp/ray/session_2024-06-06_02-59-32_685230_5556/logs/ray-data.log\n",
      "2024-06-06 03:45:54,957\tINFO streaming_executor.py:116 -- Execution plan of Dataset: InputDataBuffer[Input] -> TaskPoolMapOperator[MapBatches(exclude_failed_responses)->Map(post_process)->MapBatches(check_function_type_accuracy)] -> AllToAllOperator[Aggregate] -> LimitOperator[limit=1]\n",
      "\n"
     ]
    },
    {
     "data": {
      "application/vnd.jupyter.widget-view+json": {
       "model_id": "f463a41de02b45d5a3fd9a0108b6e79a",
       "version_major": 2,
       "version_minor": 0
      },
      "text/plain": [
       "- Aggregate 1:   0%|          | 0/1 [00:00<?, ?it/s]"
      ]
     },
     "metadata": {},
     "output_type": "display_data"
    },
    {
     "name": "stderr",
     "output_type": "stream",
     "text": [
      "(MapBatches(exclude_failed_responses)->Map(post_process)->MapBatches(check_function_type_accuracy) pid=9723, ip=100.98.23.21) Could not construct Arrow block from numpy array; encountered values of unsupported numpy type `17` in column named 'model_failure', which cannot be casted to an Arrow data type. Falling back to using pandas block type, which is slower and consumes more memory. For maximum performance, consider applying the following suggestions before ingesting into Ray Data in order to use native Arrow block types:\n",
      "(MapBatches(exclude_failed_responses)->Map(post_process)->MapBatches(check_function_type_accuracy) pid=9723, ip=100.98.23.21) - Expand out each key-value pair in the dict column into its own column\n",
      "(MapBatches(exclude_failed_responses)->Map(post_process)->MapBatches(check_function_type_accuracy) pid=9723, ip=100.98.23.21) - Replace `None` values with an Arrow supported data type\n",
      "(MapBatches(exclude_failed_responses)->Map(post_process)->MapBatches(check_function_type_accuracy) pid=9723, ip=100.98.23.21) \n"
     ]
    },
    {
     "name": "stdout",
     "output_type": "stream",
     "text": [
      "few-shot n=0 function type accuracy: 0.0\n"
     ]
    },
    {
     "name": "stderr",
     "output_type": "stream",
     "text": [
      "2024-06-06 03:45:57,494\tINFO streaming_executor.py:115 -- Starting execution of Dataset. Full log is in /tmp/ray/session_2024-06-06_02-59-32_685230_5556/logs/ray-data.log\n",
      "2024-06-06 03:45:57,494\tINFO streaming_executor.py:116 -- Execution plan of Dataset: InputDataBuffer[Input] -> TaskPoolMapOperator[MapBatches(exclude_failed_responses)->Map(post_process)->MapBatches(check_function_type_accuracy)] -> AllToAllOperator[Aggregate] -> LimitOperator[limit=1]\n",
      "\n"
     ]
    },
    {
     "data": {
      "application/vnd.jupyter.widget-view+json": {
       "model_id": "6615b8b7ce1e4784aaa020880eaa5808",
       "version_major": 2,
       "version_minor": 0
      },
      "text/plain": [
       "- Aggregate 1:   0%|          | 0/1 [00:00<?, ?it/s]"
      ]
     },
     "metadata": {},
     "output_type": "display_data"
    },
    {
     "name": "stdout",
     "output_type": "stream",
     "text": [
      "few-shot n=1 function type accuracy: 0.245\n"
     ]
    },
    {
     "name": "stderr",
     "output_type": "stream",
     "text": [
      "2024-06-06 03:45:58,723\tINFO streaming_executor.py:115 -- Starting execution of Dataset. Full log is in /tmp/ray/session_2024-06-06_02-59-32_685230_5556/logs/ray-data.log\n",
      "2024-06-06 03:45:58,723\tINFO streaming_executor.py:116 -- Execution plan of Dataset: InputDataBuffer[Input] -> TaskPoolMapOperator[MapBatches(exclude_failed_responses)->Map(post_process)->MapBatches(check_function_type_accuracy)] -> AllToAllOperator[Aggregate] -> LimitOperator[limit=1]\n",
      "\n"
     ]
    },
    {
     "data": {
      "application/vnd.jupyter.widget-view+json": {
       "model_id": "011f76ca9a68409c964912997b2531d1",
       "version_major": 2,
       "version_minor": 0
      },
      "text/plain": [
       "- Aggregate 1:   0%|          | 0/1 [00:00<?, ?it/s]"
      ]
     },
     "metadata": {},
     "output_type": "display_data"
    },
    {
     "name": "stdout",
     "output_type": "stream",
     "text": [
      "few-shot n=3 function type accuracy: 0.505\n"
     ]
    },
    {
     "name": "stderr",
     "output_type": "stream",
     "text": [
      "2024-06-06 03:45:59,962\tINFO streaming_executor.py:115 -- Starting execution of Dataset. Full log is in /tmp/ray/session_2024-06-06_02-59-32_685230_5556/logs/ray-data.log\n",
      "2024-06-06 03:45:59,963\tINFO streaming_executor.py:116 -- Execution plan of Dataset: InputDataBuffer[Input] -> TaskPoolMapOperator[MapBatches(exclude_failed_responses)->Map(post_process)->MapBatches(check_function_type_accuracy)] -> AllToAllOperator[Aggregate] -> LimitOperator[limit=1]\n",
      "\n"
     ]
    },
    {
     "data": {
      "application/vnd.jupyter.widget-view+json": {
       "model_id": "3f2e441615c945399f7906bff357adc3",
       "version_major": 2,
       "version_minor": 0
      },
      "text/plain": [
       "- Aggregate 1:   0%|          | 0/1 [00:00<?, ?it/s]"
      ]
     },
     "metadata": {},
     "output_type": "display_data"
    },
    {
     "name": "stdout",
     "output_type": "stream",
     "text": [
      "few-shot n=5 function type accuracy: 0.535\n"
     ]
    },
    {
     "name": "stderr",
     "output_type": "stream",
     "text": [
      "2024-06-06 03:46:01,220\tINFO streaming_executor.py:115 -- Starting execution of Dataset. Full log is in /tmp/ray/session_2024-06-06_02-59-32_685230_5556/logs/ray-data.log\n",
      "2024-06-06 03:46:01,221\tINFO streaming_executor.py:116 -- Execution plan of Dataset: InputDataBuffer[Input] -> TaskPoolMapOperator[MapBatches(exclude_failed_responses)->Map(post_process)->MapBatches(check_function_type_accuracy)] -> AllToAllOperator[Aggregate] -> LimitOperator[limit=1]\n",
      "\n"
     ]
    },
    {
     "data": {
      "application/vnd.jupyter.widget-view+json": {
       "model_id": "64eb58bb547641bc99a3d115fc0ed543",
       "version_major": 2,
       "version_minor": 0
      },
      "text/plain": [
       "- Aggregate 1:   0%|          | 0/1 [00:00<?, ?it/s]"
      ]
     },
     "metadata": {},
     "output_type": "display_data"
    },
    {
     "name": "stdout",
     "output_type": "stream",
     "text": [
      "few-shot n=10 function type accuracy: 0.52\n"
     ]
    },
    {
     "name": "stderr",
     "output_type": "stream",
     "text": [
      "2024-06-06 03:46:02,498\tINFO streaming_executor.py:115 -- Starting execution of Dataset. Full log is in /tmp/ray/session_2024-06-06_02-59-32_685230_5556/logs/ray-data.log\n",
      "2024-06-06 03:46:02,499\tINFO streaming_executor.py:116 -- Execution plan of Dataset: InputDataBuffer[Input] -> TaskPoolMapOperator[MapBatches(exclude_failed_responses)->Map(post_process)->MapBatches(check_function_type_accuracy)] -> AllToAllOperator[Aggregate] -> LimitOperator[limit=1]\n",
      "\n"
     ]
    },
    {
     "data": {
      "application/vnd.jupyter.widget-view+json": {
       "model_id": "5ece3b8e76704197b6aa8a54d970aa94",
       "version_major": 2,
       "version_minor": 0
      },
      "text/plain": [
       "- Aggregate 1:   0%|          | 0/1 [00:00<?, ?it/s]"
      ]
     },
     "metadata": {},
     "output_type": "display_data"
    },
    {
     "name": "stdout",
     "output_type": "stream",
     "text": [
      "few-shot n=20 function type accuracy: 0.4875\n"
     ]
    },
    {
     "data": {
      "text/plain": [
       "Text(0, 0.5, 'Accuracy')"
      ]
     },
     "execution_count": 58,
     "metadata": {},
     "output_type": "execute_result"
    },
    {
     "data": {
      "image/png": "[encoded data removed]",
      "text/plain": [
       "<Figure size 640x480 with 1 Axes>"
      ]
     },
     "metadata": {},
     "output_type": "display_data"
    }
   ],
   "source": [
    "fn_type_accuracy = []\n",
    "for n in n_few_shot:\n",
    "    output = (\n",
    "        ray.data.from_pandas(df_outputs[n])\n",
    "        .map_batches(exclude_failed_responses, batch_format=\"pandas\")\n",
    "        .map(post_process)\n",
    "        .map_batches(check_function_type_accuracy)\n",
    "        .mean(on=\"fn_type_match\")\n",
    "    )\n",
    "    print(f\"few-shot n={n} function type accuracy: {output}\")\n",
    "    fn_type_accuracy.append(output)\n",
    "\n",
    "plt.bar(n_few_shot, fn_type_accuracy)\n",
    "plt.title(\"Few-shot function type accuracy\")\n",
    "plt.xlabel(\"Number of few shot examples\")\n",
    "plt.xticks(n_few_shot)\n",
    "plt.ylabel(\"Accuracy\")"
   ]
  },
  {
   "cell_type": "markdown",
   "metadata": {},
   "source": [
    "The function type accuracy is the highest when using 5 examples at 53.5%. Further examples do not seem to improve the accuracy but instead decrease it perhaps due to the model overfitting to the context."
   ]
  },
  {
   "cell_type": "code",
   "execution_count": 59,
   "metadata": {},
   "outputs": [],
   "source": [
    "def check_attribute_types_accuracy(batch: dict) -> dict:\n",
    "    batch[\"attr_types_match\"] = batch[\"ground_truth_attr_types\"].apply(set) == batch[\"model_attr_types\"].apply(set)\n",
    "    return batch"
   ]
  },
  {
   "cell_type": "markdown",
   "metadata": {},
   "source": [
    "Let's compute the accuracy of predicting the attribute types."
   ]
  },
  {
   "cell_type": "code",
   "execution_count": 60,
   "metadata": {},
   "outputs": [
    {
     "name": "stderr",
     "output_type": "stream",
     "text": [
      "2024-06-06 03:46:09,012\tINFO streaming_executor.py:115 -- Starting execution of Dataset. Full log is in /tmp/ray/session_2024-06-06_02-59-32_685230_5556/logs/ray-data.log\n",
      "2024-06-06 03:46:09,013\tINFO streaming_executor.py:116 -- Execution plan of Dataset: InputDataBuffer[Input] -> TaskPoolMapOperator[MapBatches(exclude_failed_responses)->Map(post_process)->MapBatches(check_attribute_types_accuracy)] -> AllToAllOperator[Aggregate] -> LimitOperator[limit=1]\n",
      "\n"
     ]
    },
    {
     "data": {
      "application/vnd.jupyter.widget-view+json": {
       "model_id": "dc265967debe4265b88a761f6dd6c15c",
       "version_major": 2,
       "version_minor": 0
      },
      "text/plain": [
       "- Aggregate 1:   0%|          | 0/1 [00:00<?, ?it/s]"
      ]
     },
     "metadata": {},
     "output_type": "display_data"
    },
    {
     "name": "stdout",
     "output_type": "stream",
     "text": [
      "few-shot n=0 function type accuracy: 0.0\n"
     ]
    },
    {
     "name": "stderr",
     "output_type": "stream",
     "text": [
      "2024-06-06 03:46:10,260\tINFO streaming_executor.py:115 -- Starting execution of Dataset. Full log is in /tmp/ray/session_2024-06-06_02-59-32_685230_5556/logs/ray-data.log\n",
      "2024-06-06 03:46:10,261\tINFO streaming_executor.py:116 -- Execution plan of Dataset: InputDataBuffer[Input] -> TaskPoolMapOperator[MapBatches(exclude_failed_responses)->Map(post_process)->MapBatches(check_attribute_types_accuracy)] -> AllToAllOperator[Aggregate] -> LimitOperator[limit=1]\n",
      "\n"
     ]
    },
    {
     "data": {
      "application/vnd.jupyter.widget-view+json": {
       "model_id": "e2ca77b98c2f4ebd9a942765bbecae38",
       "version_major": 2,
       "version_minor": 0
      },
      "text/plain": [
       "- Aggregate 1:   0%|          | 0/1 [00:00<?, ?it/s]"
      ]
     },
     "metadata": {},
     "output_type": "display_data"
    },
    {
     "name": "stdout",
     "output_type": "stream",
     "text": [
      "few-shot n=1 function type accuracy: 0.045\n"
     ]
    },
    {
     "name": "stderr",
     "output_type": "stream",
     "text": [
      "2024-06-06 03:46:11,499\tINFO streaming_executor.py:115 -- Starting execution of Dataset. Full log is in /tmp/ray/session_2024-06-06_02-59-32_685230_5556/logs/ray-data.log\n",
      "2024-06-06 03:46:11,500\tINFO streaming_executor.py:116 -- Execution plan of Dataset: InputDataBuffer[Input] -> TaskPoolMapOperator[MapBatches(exclude_failed_responses)->Map(post_process)->MapBatches(check_attribute_types_accuracy)] -> AllToAllOperator[Aggregate] -> LimitOperator[limit=1]\n",
      "\n"
     ]
    },
    {
     "data": {
      "application/vnd.jupyter.widget-view+json": {
       "model_id": "e73593b7ea084fe0bdc3f025b097e479",
       "version_major": 2,
       "version_minor": 0
      },
      "text/plain": [
       "- Aggregate 1:   0%|          | 0/1 [00:00<?, ?it/s]"
      ]
     },
     "metadata": {},
     "output_type": "display_data"
    },
    {
     "name": "stdout",
     "output_type": "stream",
     "text": [
      "few-shot n=3 function type accuracy: 0.18\n"
     ]
    },
    {
     "name": "stderr",
     "output_type": "stream",
     "text": [
      "2024-06-06 03:46:12,750\tINFO streaming_executor.py:115 -- Starting execution of Dataset. Full log is in /tmp/ray/session_2024-06-06_02-59-32_685230_5556/logs/ray-data.log\n",
      "2024-06-06 03:46:12,751\tINFO streaming_executor.py:116 -- Execution plan of Dataset: InputDataBuffer[Input] -> TaskPoolMapOperator[MapBatches(exclude_failed_responses)->Map(post_process)->MapBatches(check_attribute_types_accuracy)] -> AllToAllOperator[Aggregate] -> LimitOperator[limit=1]\n",
      "\n"
     ]
    },
    {
     "data": {
      "application/vnd.jupyter.widget-view+json": {
       "model_id": "21e8c9a426e94bb39944800976664b52",
       "version_major": 2,
       "version_minor": 0
      },
      "text/plain": [
       "- Aggregate 1:   0%|          | 0/1 [00:00<?, ?it/s]"
      ]
     },
     "metadata": {},
     "output_type": "display_data"
    },
    {
     "name": "stdout",
     "output_type": "stream",
     "text": [
      "few-shot n=5 function type accuracy: 0.2525\n"
     ]
    },
    {
     "name": "stderr",
     "output_type": "stream",
     "text": [
      "2024-06-06 03:46:14,026\tINFO streaming_executor.py:115 -- Starting execution of Dataset. Full log is in /tmp/ray/session_2024-06-06_02-59-32_685230_5556/logs/ray-data.log\n",
      "2024-06-06 03:46:14,026\tINFO streaming_executor.py:116 -- Execution plan of Dataset: InputDataBuffer[Input] -> TaskPoolMapOperator[MapBatches(exclude_failed_responses)->Map(post_process)->MapBatches(check_attribute_types_accuracy)] -> AllToAllOperator[Aggregate] -> LimitOperator[limit=1]\n",
      "\n"
     ]
    },
    {
     "data": {
      "application/vnd.jupyter.widget-view+json": {
       "model_id": "b70f61ac07bb4755b581def779570275",
       "version_major": 2,
       "version_minor": 0
      },
      "text/plain": [
       "- Aggregate 1:   0%|          | 0/1 [00:00<?, ?it/s]"
      ]
     },
     "metadata": {},
     "output_type": "display_data"
    },
    {
     "name": "stdout",
     "output_type": "stream",
     "text": [
      "few-shot n=10 function type accuracy: 0.27\n"
     ]
    },
    {
     "name": "stderr",
     "output_type": "stream",
     "text": [
      "2024-06-06 03:46:15,316\tINFO streaming_executor.py:115 -- Starting execution of Dataset. Full log is in /tmp/ray/session_2024-06-06_02-59-32_685230_5556/logs/ray-data.log\n",
      "2024-06-06 03:46:15,317\tINFO streaming_executor.py:116 -- Execution plan of Dataset: InputDataBuffer[Input] -> TaskPoolMapOperator[MapBatches(exclude_failed_responses)->Map(post_process)->MapBatches(check_attribute_types_accuracy)] -> AllToAllOperator[Aggregate] -> LimitOperator[limit=1]\n",
      "\n"
     ]
    },
    {
     "data": {
      "application/vnd.jupyter.widget-view+json": {
       "model_id": "14f7a02edbf24a6b9940da4bec0d6a19",
       "version_major": 2,
       "version_minor": 0
      },
      "text/plain": [
       "- Aggregate 1:   0%|          | 0/1 [00:00<?, ?it/s]"
      ]
     },
     "metadata": {},
     "output_type": "display_data"
    },
    {
     "name": "stdout",
     "output_type": "stream",
     "text": [
      "few-shot n=20 function type accuracy: 0.2175\n"
     ]
    },
    {
     "data": {
      "image/png": "[encoded data removed]",
      "text/plain": [
       "<Figure size 640x480 with 1 Axes>"
      ]
     },
     "metadata": {},
     "output_type": "display_data"
    }
   ],
   "source": [
    "attr_types_accuracy = []\n",
    "for n in n_few_shot:\n",
    "    output = (\n",
    "        ray.data.from_pandas(df_outputs[n])\n",
    "        .map_batches(exclude_failed_responses, batch_format=\"pandas\")\n",
    "        .map(post_process)\n",
    "        .map_batches(check_attribute_types_accuracy, batch_format=\"pandas\")\n",
    "        .mean(on=\"attr_types_match\")                     \n",
    "    )\n",
    "    print(f\"few-shot n={n} function type accuracy: {output}\")\n",
    "    attr_types_accuracy.append(output)\n",
    "\n",
    "plt.bar(n_few_shot, attr_types_accuracy)\n",
    "plt.title(\"Few-shot attribute types accuracy\")\n",
    "plt.xlabel(\"Number of few shot examples\")\n",
    "plt.xticks(n_few_shot)\n",
    "plt.ylabel(\"Accuracy\")\n",
    "plt.show()"
   ]
  },
  {
   "cell_type": "markdown",
   "metadata": {},
   "source": [
    "We can look at more granular metrics like the confusion matrix, recall and precision for each function type. But for our evaluation purposes we will stop here and call this our baseline performance evaluation. \n",
    "\n",
    "For instance, naively always predicting inform as the function type will yield an accuracy of around 40%, so we can see that the model is learning from the examples. "
   ]
  },
  {
   "cell_type": "markdown",
   "metadata": {},
   "source": [
    "## 3. Finetune an LLM\n",
    "\n",
    "Let's see if we can improve on our baseline by finetuning a model. "
   ]
  },
  {
   "cell_type": "code",
   "execution_count": 61,
   "metadata": {},
   "outputs": [],
   "source": [
    "with open(\"./finetune/config.yaml\", \"r\") as f:\n",
    "    finetune_config = yaml.safe_load(f)"
   ]
  },
  {
   "cell_type": "markdown",
   "metadata": {},
   "source": [
    "Anyscale's llm-forge's finetune config can be split into the following:\n",
    "\n",
    "- Data config\n",
    "    - `train_path`: The path to the training data.\n",
    "    - `valid_path`: The path to the validation data.\n",
    "    - `context_length`: The maximum number of tokens in the input.\n",
    "- Model config:\n",
    "    - `model_id`: The hugingface model name.\n",
    "- LoRA config:\n",
    "    - `lora_config`: The LoRA configuration, here are the key parameters:\n",
    "        - `r`: The rank of the LoRA matrix.\n",
    "        - `target_modules`: Which modules to apply LoRA to.\n",
    "        - `lora_alpha`: The LoRA alpha parameter (a scaling factor).\n",
    "- Training config:\n",
    "    - `learning_rate`: The learning rate for the optimizer.\n",
    "    - `num_epochs`: The number of epochs to train for.\n",
    "    - `train_batch_size_per_device`: The batch size per device for training.\n",
    "    - `eval_batch_size_per_device`: The evaluation batch size per device.\n",
    "    - `num_devices`: The number of devices to train on.\n",
    "    - `worker_resources`: The accelerator type to use.\n",
    "- Output config\n",
    "    - `num_checkpoints_to_keep`: The number of checkpoints to keep.\n",
    "    - `output_dir`: The output directory for the model.\n",
    "- Advanced training config\n",
    "    - `deepspeed`: Settings for distributed training strategy like FSDP (fully sharded data parallel)\n",
    "        - this can enclude specifying the stage of `FSDP`\n",
    "        - whether to make use of CPU offloading for parameter and optimizer states.\n",
    "\n",
    "Default configurations for all the popular models are available in the `llm-forge` library and are a good starting point for most tasks."
   ]
  },
  {
   "cell_type": "code",
   "execution_count": 62,
   "metadata": {},
   "outputs": [
    {
     "data": {
      "text/plain": [
       "'mistralai/Mistral-7B-Instruct-v0.1:7d5d:viggo-subset-200'"
      ]
     },
     "execution_count": 62,
     "metadata": {},
     "output_type": "execute_result"
    }
   ],
   "source": [
    "unique_id = str(uuid4())[:4]\n",
    "model_id = f\"mistralai/Mistral-7B-Instruct-v0.1:{unique_id}:viggo-subset-200\"\n",
    "model_id"
   ]
  },
  {
   "cell_type": "markdown",
   "metadata": {},
   "source": [
    "We make use of `llmforge` an anyscale library to perform our finetuning. Here is how we would use it:\n",
    "\n",
    "```bash\n",
    "llmforge dev finetune \"finetune/config.yaml\" --model-tag={model_id} --forward-best-checkpoint-remote-uri={model_storage_path}\n",
    "```\n",
    "\n",
    "- The `finetune/config.yaml` file contains the configuration for the finetuning task.\n",
    "    - The configuration file contains the lora, dataset, and training parameters.\n",
    "- The `model_id` is the tag we want to give to the model we are finetuning.\n",
    "    - this is what we will use to refer to the model when making requests to our server using the openai SDK\n",
    "- The `forward-best-checkpoint-remote-uri` is the path where we want to store the model.\n",
    "    - this path needs to match where our server is looking for models to serve\n",
    "\n",
    "\n"
   ]
  },
  {
   "cell_type": "code",
   "execution_count": 63,
   "metadata": {},
   "outputs": [
    {
     "name": "stdout",
     "output_type": "stream",
     "text": [
      "(autoscaler +3m3s) [autoscaler] [4xA10G:48CPU-192GB] Upscaling 1 node(s).\n",
      "(autoscaler +3m4s) [autoscaler] [4xA10G:48CPU-192GB|g5.12xlarge] [us-east-2a] [on-demand] Launched 1 instances.\n",
      "(autoscaler +4m28s) [autoscaler] Downscaling node i-0de777966564ff4ad (node IP: 100.72.217.71) due to node idle termination.\n",
      "(autoscaler +4m28s) [autoscaler] Downscaling node i-0d29815f55c87cc09 (node IP: 100.74.253.34) due to node idle termination.\n",
      "(autoscaler +4m28s) [autoscaler] Downscaling node i-082214f2a09fe6701 (node IP: 100.98.23.21) due to node idle termination.\n",
      "(autoscaler +4m28s) [autoscaler] Downscaling node i-0de5d21d04d4406e6 (node IP: 100.65.224.46) due to node idle termination.\n",
      "(autoscaler +7m3s) [autoscaler] [8CPU-32GB] Upscaling 2 node(s).\n",
      "(autoscaler +7m5s) [autoscaler] [8CPU-32GB|m5.2xlarge] [us-east-2a] [on-demand] Launched 2 instances.\n",
      "(autoscaler +8m46s) [autoscaler] Cluster upscaled to {56 CPU, 4 GPU}.\n",
      "(autoscaler +8m52s) [autoscaler] Cluster upscaled to {64 CPU, 4 GPU}.\n",
      "(autoscaler +22m10s) [autoscaler] Downscaling node i-02c31a9ce20836d90 (node IP: 100.126.236.26) due to node idle termination.\n",
      "(autoscaler +22m10s) [autoscaler] Downscaling node i-046b81f1e2bf4e094 (node IP: 100.81.85.2) due to node idle termination.\n",
      "(autoscaler +22m11s) [autoscaler] Cluster resized to {48 CPU, 4 GPU}.\n"
     ]
    }
   ],
   "source": [
    "!llmforge dev finetune \"finetune/config.yaml\" --model-tag={model_id} --forward-best-checkpoint-remote-uri={MODEL_STORAGE_PATH}  >> log_file 2>&1"
   ]
  },
  {
   "cell_type": "markdown",
   "metadata": {},
   "source": [
    "We can inspect the produced model files"
   ]
  },
  {
   "cell_type": "code",
   "execution_count": 64,
   "metadata": {},
   "outputs": [
    {
     "name": "stdout",
     "output_type": "stream",
     "text": [
      "2024-06-06 04:03:52         93 README.md\n",
      "2024-06-06 04:03:52        617 adapter_config.json\n",
      "2024-06-06 04:03:52   43158152 adapter_model.safetensors\n",
      "2024-06-06 04:03:53        704 config.json\n",
      "2024-06-06 04:03:53         16 new_embeddings.safetensors\n",
      "2024-06-06 04:03:53        437 special_tokens_map.json\n",
      "2024-06-06 04:03:53    1795554 tokenizer.json\n",
      "2024-06-06 04:03:53     493443 tokenizer.model\n",
      "2024-06-06 04:03:53       1468 tokenizer_config.json\n"
     ]
    }
   ],
   "source": [
    "!aws s3 ls {MODEL_STORAGE_PATH}{model_id}/"
   ]
  },
  {
   "cell_type": "markdown",
   "metadata": {},
   "source": [
    "## 4. Evaluate the Finetuned LLM"
   ]
  },
  {
   "cell_type": "code",
   "execution_count": 67,
   "metadata": {},
   "outputs": [
    {
     "name": "stderr",
     "output_type": "stream",
     "text": [
      "2024-06-06 04:06:30,653\tINFO streaming_executor.py:115 -- Starting execution of Dataset. Full log is in /tmp/ray/session_2024-06-06_02-59-32_685230_5556/logs/ray-data.log\n",
      "2024-06-06 04:06:30,654\tINFO streaming_executor.py:116 -- Execution plan of Dataset: InputDataBuffer[Input] -> LimitOperator[limit=1] -> AllToAllOperator[Repartition] -> ActorPoolMapOperator[Map(parse_messages)->Map(generate_inputs)->Map(ModelClient)]\n",
      "\n"
     ]
    },
    {
     "data": {
      "application/vnd.jupyter.widget-view+json": {
       "model_id": "31934bcb45284d0c8a2748ca05a60049",
       "version_major": 2,
       "version_minor": 0
      },
      "text/plain": [
       "- Repartition 1:   0%|          | 0/1 [00:00<?, ?it/s]"
      ]
     },
     "metadata": {},
     "output_type": "display_data"
    },
    {
     "data": {
      "text/html": [
       "<div>\n",
       "<style scoped>\n",
       "    .dataframe tbody tr th:only-of-type {\n",
       "        vertical-align: middle;\n",
       "    }\n",
       "\n",
       "    .dataframe tbody tr th {\n",
       "        vertical-align: top;\n",
       "    }\n",
       "\n",
       "    .dataframe thead th {\n",
       "        text-align: right;\n",
       "    }\n",
       "</style>\n",
       "<table border=\"1\" class=\"dataframe\">\n",
       "  <thead>\n",
       "    <tr style=\"text-align: right;\">\n",
       "      <th></th>\n",
       "      <th>user_input</th>\n",
       "      <th>ground_truth</th>\n",
       "      <th>model_input</th>\n",
       "      <th>model_output</th>\n",
       "      <th>model_failure</th>\n",
       "    </tr>\n",
       "  </thead>\n",
       "  <tbody>\n",
       "    <tr>\n",
       "      <th>0</th>\n",
       "      <td>Here is the target sentence:\\nRise of the Tomb...</td>\n",
       "      <td>inform(name[Rise of the Tomb Raider], genres[a...</td>\n",
       "      <td>Here is the target sentence:\\nRise of the Tomb...</td>\n",
       "      <td>inform(name[Rise of the Tomb Raider], genres[a...</td>\n",
       "      <td>NaN</td>\n",
       "    </tr>\n",
       "  </tbody>\n",
       "</table>\n",
       "</div>"
      ],
      "text/plain": [
       "                                          user_input  \\\n",
       "0  Here is the target sentence:\\nRise of the Tomb...   \n",
       "\n",
       "                                        ground_truth  \\\n",
       "0  inform(name[Rise of the Tomb Raider], genres[a...   \n",
       "\n",
       "                                         model_input  \\\n",
       "0  Here is the target sentence:\\nRise of the Tomb...   \n",
       "\n",
       "                                        model_output  model_failure  \n",
       "0  inform(name[Rise of the Tomb Raider], genres[a...            NaN  "
      ]
     },
     "execution_count": 67,
     "metadata": {},
     "output_type": "execute_result"
    }
   ],
   "source": [
    "(\n",
    "    ray.data.from_pandas(dfs[\"test\"])\n",
    "    .limit(1)\n",
    "    .repartition(1)\n",
    "    .map(parse_messages, num_cpus=0.01)\n",
    "    .map(generate_inputs, fn_kwargs={\"examples\": []}, num_cpus=0.01)\n",
    "    .map(ModelClient, concurrency=1, fn_kwargs={\"llm_model\": model_id}, num_cpus=0.01)\n",
    "    .to_pandas()\n",
    ")"
   ]
  },
  {
   "cell_type": "code",
   "execution_count": 69,
   "metadata": {},
   "outputs": [
    {
     "name": "stderr",
     "output_type": "stream",
     "text": [
      "2024-06-06 04:17:14,398\tINFO streaming_executor.py:115 -- Starting execution of Dataset. Full log is in /tmp/ray/session_2024-06-06_02-59-32_685230_5556/logs/ray-data.log\n",
      "2024-06-06 04:17:14,398\tINFO streaming_executor.py:116 -- Execution plan of Dataset: InputDataBuffer[Input] -> AllToAllOperator[Repartition] -> ActorPoolMapOperator[Map(parse_messages)->Map(generate_inputs)->Map(ModelClient)] -> TaskPoolMapOperator[Write]\n",
      "\n"
     ]
    },
    {
     "data": {
      "application/vnd.jupyter.widget-view+json": {
       "model_id": "178b178216b146a1b79b1e8c08eb117d",
       "version_major": 2,
       "version_minor": 0
      },
      "text/plain": [
       "- Repartition 1:   0%|          | 0/32 [00:00<?, ?it/s]"
      ]
     },
     "metadata": {},
     "output_type": "display_data"
    }
   ],
   "source": [
    "max_concurrency = 32\n",
    "\n",
    "dest_outputs_finetune = \"/mnt/cluster_storage/dev/outputs_fine_tuned.json\"\n",
    "if os.path.exists(dest_outputs_finetune):\n",
    "    shutil.rmtree(dest_outputs_finetune)\n",
    "     \n",
    "(\n",
    "    ray.data.from_pandas(dfs[\"test\"])\n",
    "    .repartition(max_concurrency)\n",
    "    .map(parse_messages, num_cpus=0.01)\n",
    "    .map(generate_inputs, fn_kwargs={\"examples\": []}, num_cpus=0.01)\n",
    "    .map(ModelClient, concurrency=max_concurrency, fn_kwargs={\"llm_model\": model_id}, num_cpus=0.01)\n",
    "    .write_json(dest_outputs_finetune)\n",
    ")"
   ]
  },
  {
   "cell_type": "code",
   "execution_count": 70,
   "metadata": {},
   "outputs": [
    {
     "name": "stderr",
     "output_type": "stream",
     "text": [
      "2024-06-06 04:26:55,772\tINFO streaming_executor.py:115 -- Starting execution of Dataset. Full log is in /tmp/ray/session_2024-06-06_02-59-32_685230_5556/logs/ray-data.log\n",
      "2024-06-06 04:26:55,773\tINFO streaming_executor.py:116 -- Execution plan of Dataset: InputDataBuffer[Input] -> TaskPoolMapOperator[ReadJSON] -> TaskPoolMapOperator[Map(post_process)->MapBatches(check_function_type_accuracy)] -> AllToAllOperator[Aggregate] -> LimitOperator[limit=1]\n",
      "\n"
     ]
    },
    {
     "data": {
      "application/vnd.jupyter.widget-view+json": {
       "model_id": "46fa8a869a224391bbd82cd0146020c1",
       "version_major": 2,
       "version_minor": 0
      },
      "text/plain": [
       "- Aggregate 1:   0%|          | 0/32 [00:00<?, ?it/s]"
      ]
     },
     "metadata": {},
     "output_type": "display_data"
    },
    {
     "name": "stderr",
     "output_type": "stream",
     "text": [
      "(Map(post_process)->MapBatches(check_function_type_accuracy) pid=16396, ip=100.88.235.81) Could not construct Arrow block from numpy array; encountered values of unsupported numpy type `17` in column named 'model_failure', which cannot be casted to an Arrow data type. Falling back to using pandas block type, which is slower and consumes more memory. For maximum performance, consider applying the following suggestions before ingesting into Ray Data in order to use native Arrow block types:\n",
      "(Map(post_process)->MapBatches(check_function_type_accuracy) pid=16396, ip=100.88.235.81) - Expand out each key-value pair in the dict column into its own column\n",
      "(Map(post_process)->MapBatches(check_function_type_accuracy) pid=16396, ip=100.88.235.81) - Replace `None` values with an Arrow supported data type\n",
      "(Map(post_process)->MapBatches(check_function_type_accuracy) pid=16396, ip=100.88.235.81) \n"
     ]
    },
    {
     "name": "stdout",
     "output_type": "stream",
     "text": [
      "finetune function type accuracy: 0.8475\n"
     ]
    },
    {
     "data": {
      "text/plain": [
       "<Axes: title={'center': 'Function type accuracy'}, xlabel='Method', ylabel='Accuracy'>"
      ]
     },
     "execution_count": 70,
     "metadata": {},
     "output_type": "execute_result"
    },
    {
     "data": {
      "image/png": "[encoded data removed]",
      "text/plain": [
       "<Figure size 640x480 with 1 Axes>"
      ]
     },
     "metadata": {},
     "output_type": "display_data"
    }
   ],
   "source": [
    "finetune_fn_accuracy = (\n",
    "    ray.data.read_json(dest_outputs_finetune)\n",
    "    .map(post_process)\n",
    "    .map_batches(check_function_type_accuracy)\n",
    "    .mean(on=\"fn_type_match\")\n",
    ")\n",
    "\n",
    "print(f\"finetune function type accuracy: {finetune_fn_accuracy}\")\n",
    "\n",
    "pd.DataFrame(\n",
    "    {\n",
    "        \"model\": [f\"mistral-7B-instruct-v0.1-{n}examples\" for n in n_few_shot]\n",
    "        + [\"finetune\"],\n",
    "        \"fn_type_accuracy\": fn_type_accuracy + [finetune_fn_accuracy],\n",
    "    }\n",
    ").plot(\n",
    "    kind=\"bar\",\n",
    "    x=\"model\",\n",
    "    y=\"fn_type_accuracy\",\n",
    "    title=\"Function type accuracy\",\n",
    "    ylabel=\"Accuracy\",\n",
    "    xlabel=\"Method\",\n",
    ")"
   ]
  },
  {
   "cell_type": "code",
   "execution_count": 71,
   "metadata": {},
   "outputs": [
    {
     "name": "stderr",
     "output_type": "stream",
     "text": [
      "2024-06-06 04:26:59,322\tINFO streaming_executor.py:115 -- Starting execution of Dataset. Full log is in /tmp/ray/session_2024-06-06_02-59-32_685230_5556/logs/ray-data.log\n",
      "2024-06-06 04:26:59,323\tINFO streaming_executor.py:116 -- Execution plan of Dataset: InputDataBuffer[Input] -> TaskPoolMapOperator[ReadJSON] -> TaskPoolMapOperator[Map(post_process)->MapBatches(check_attribute_types_accuracy)] -> AllToAllOperator[Aggregate] -> LimitOperator[limit=1]\n",
      "\n"
     ]
    },
    {
     "data": {
      "application/vnd.jupyter.widget-view+json": {
       "model_id": "b3f3d4ad37dd4206aed32913e27d618b",
       "version_major": 2,
       "version_minor": 0
      },
      "text/plain": [
       "- Aggregate 1:   0%|          | 0/32 [00:00<?, ?it/s]"
      ]
     },
     "metadata": {},
     "output_type": "display_data"
    },
    {
     "name": "stdout",
     "output_type": "stream",
     "text": [
      "finetune attribute types accuracy: 0.5025\n"
     ]
    },
    {
     "data": {
      "text/plain": [
       "<Axes: title={'center': 'Attribute types accuracy'}, xlabel='Method', ylabel='Accuracy'>"
      ]
     },
     "execution_count": 71,
     "metadata": {},
     "output_type": "execute_result"
    },
    {
     "data": {
      "image/png": "[encoded data removed]",
      "text/plain": [
       "<Figure size 640x480 with 1 Axes>"
      ]
     },
     "metadata": {},
     "output_type": "display_data"
    }
   ],
   "source": [
    "finetune_attr_types_accuracy = (\n",
    "    ray.data.read_json(dest_outputs_finetune)\n",
    "    .map(post_process)\n",
    "    .map_batches(check_attribute_types_accuracy, batch_format=\"pandas\")\n",
    "    .mean(on=\"attr_types_match\")\n",
    ")\n",
    "\n",
    "print(f\"finetune attribute types accuracy: {finetune_attr_types_accuracy}\")\n",
    "\n",
    "pd.DataFrame(\n",
    "    {\n",
    "        \"model\": [f\"mistral-7B-instruct-v0.1-{n}examples\" for n in n_few_shot]\n",
    "        + [\"finetune\"],\n",
    "        \"attr_types_accuracy\": attr_types_accuracy + [finetune_attr_types_accuracy],\n",
    "    }\n",
    ").plot(\n",
    "    kind=\"bar\",\n",
    "    x=\"model\",\n",
    "    y=\"attr_types_accuracy\",\n",
    "    title=\"Attribute types accuracy\",\n",
    "    ylabel=\"Accuracy\",\n",
    "    xlabel=\"Method\",\n",
    ")"
   ]
  },
  {
   "cell_type": "code",
   "execution_count": null,
   "metadata": {},
   "outputs": [],
   "source": []
  }
 ],
 "metadata": {
  "kernelspec": {
   "display_name": "base",
   "language": "python",
   "name": "python3"
  },
  "language_info": {
   "codemirror_mode": {
    "name": "ipython",
    "version": 3
   },
   "file_extension": ".py",
   "mimetype": "text/x-python",
   "name": "python",
   "nbconvert_exporter": "python",
   "pygments_lexer": "ipython3",
   "version": "3.10.13"
  }
 },
 "nbformat": 4,
 "nbformat_minor": 2
}
